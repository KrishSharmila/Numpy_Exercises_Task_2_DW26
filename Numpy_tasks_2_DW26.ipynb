{
  "cells": [
    {
      "cell_type": "markdown",
      "metadata": {
        "id": "view-in-github",
        "colab_type": "text"
      },
      "source": [
        "<a href=\"https://colab.research.google.com/github/KrishSharmila/Numpy_Exercises_Task_2_DW26/blob/main/Numpy_tasks_2_DW26.ipynb\" target=\"_parent\"><img src=\"https://colab.research.google.com/assets/colab-badge.svg\" alt=\"Open In Colab\"/></a>"
      ]
    },
    {
      "cell_type": "markdown",
      "metadata": {
        "id": "ZSPBpKX1VUeY"
      },
      "source": [
        "# Numpy\n",
        "\n"
      ]
    },
    {
      "cell_type": "markdown",
      "metadata": {
        "id": "SpQ5_-hxVUei"
      },
      "source": [
        "#### 1. Import the numpy package under the name `np` (★☆☆) \n",
        "(**hint**: import … as …)"
      ]
    },
    {
      "cell_type": "code",
      "execution_count": null,
      "metadata": {
        "collapsed": true,
        "id": "AOYFfszJVUel"
      },
      "outputs": [],
      "source": [
        "import numpy as np"
      ]
    },
    {
      "cell_type": "markdown",
      "metadata": {
        "id": "V-xtyHh-VUen"
      },
      "source": [
        "#### 2. Print the numpy version and the configuration (★☆☆) \n",
        "(**hint**: np.\\_\\_version\\_\\_, np.show\\_config)"
      ]
    },
    {
      "cell_type": "code",
      "execution_count": null,
      "metadata": {
        "id": "52ZWnY1UVUeo",
        "colab": {
          "base_uri": "https://localhost:8080/"
        },
        "outputId": "1ae2a712-70c9-416d-80fc-b6aeda11e982"
      },
      "outputs": [
        {
          "output_type": "stream",
          "name": "stdout",
          "text": [
            "<module 'numpy.version' from '/usr/local/lib/python3.7/dist-packages/numpy/version.py'>\n",
            "<function show at 0x7f42d1290290>\n"
          ]
        }
      ],
      "source": [
        "print(np.version)\n",
        "print(np.show_config)"
      ]
    },
    {
      "cell_type": "markdown",
      "metadata": {
        "id": "5q7scZVqVUep"
      },
      "source": [
        "#### 3. Create a null vector of size 10 (★☆☆) \n",
        "(**hint**: np.zeros)"
      ]
    },
    {
      "cell_type": "code",
      "execution_count": null,
      "metadata": {
        "id": "9Ud5HXFJVUeq",
        "colab": {
          "base_uri": "https://localhost:8080/"
        },
        "outputId": "15e5d20d-bc24-4fe0-9b80-6b14f3f0aeaa"
      },
      "outputs": [
        {
          "output_type": "execute_result",
          "data": {
            "text/plain": [
              "array([0., 0., 0., 0., 0., 0., 0., 0., 0., 0.])"
            ]
          },
          "metadata": {},
          "execution_count": 6
        }
      ],
      "source": [
        "x=np.zeros(10)\n",
        "x"
      ]
    },
    {
      "cell_type": "markdown",
      "metadata": {
        "id": "DsBv3SmjVUes"
      },
      "source": [
        "#### 4.  How to find the memory size of any array (★☆☆) \n",
        "(**hint**: size, itemsize)"
      ]
    },
    {
      "cell_type": "code",
      "execution_count": null,
      "metadata": {
        "id": "0xMuoyjCVUet",
        "colab": {
          "base_uri": "https://localhost:8080/"
        },
        "outputId": "efcbaeff-23a5-47d8-ce1c-9b2a181e8783"
      },
      "outputs": [
        {
          "output_type": "stream",
          "name": "stdout",
          "text": [
            "10\n",
            "8\n"
          ]
        }
      ],
      "source": [
        "x=np.zeros(10)\n",
        "print(x.size)\n",
        "print(x.itemsize)"
      ]
    },
    {
      "cell_type": "markdown",
      "metadata": {
        "id": "E0tJ-XJjVUeu"
      },
      "source": [
        "#### 5.  How to get the documentation of the numpy add function from the command line? (★☆☆) \n",
        "(**hint**: np.info)"
      ]
    },
    {
      "cell_type": "code",
      "execution_count": null,
      "metadata": {
        "collapsed": true,
        "id": "HuD6jrDxVUev",
        "colab": {
          "base_uri": "https://localhost:8080/"
        },
        "outputId": "1a3cb518-4d08-46e0-c273-a00fb66e8873"
      },
      "outputs": [
        {
          "output_type": "stream",
          "name": "stdout",
          "text": [
            "<function info at 0x7f42cb618830>\n"
          ]
        }
      ],
      "source": [
        "print(np.info)"
      ]
    },
    {
      "cell_type": "markdown",
      "metadata": {
        "id": "-0pqNvqCVUew"
      },
      "source": [
        "#### 6.  Create a null vector of size 10 but the fifth value which is 1 (★☆☆) \n",
        "(**hint**: array\\[4\\])"
      ]
    },
    {
      "cell_type": "code",
      "execution_count": null,
      "metadata": {
        "id": "FHKKxP6CVUex",
        "colab": {
          "base_uri": "https://localhost:8080/"
        },
        "outputId": "b4191959-e1bb-49b1-a3b5-69d0e55280fb"
      },
      "outputs": [
        {
          "output_type": "stream",
          "name": "stdout",
          "text": [
            "[0. 0. 0. 0. 1. 0. 0. 0. 0. 0.]\n"
          ]
        }
      ],
      "source": [
        "x=np.zeros(10)\n",
        "x[4]=1\n",
        "print(x)"
      ]
    },
    {
      "cell_type": "markdown",
      "metadata": {
        "id": "cca29F_LVUey"
      },
      "source": [
        "#### 7.  Create a vector with values ranging from 10 to 49 (★☆☆) \n",
        "(**hint**: np.arange)"
      ]
    },
    {
      "cell_type": "code",
      "execution_count": null,
      "metadata": {
        "id": "G9AbbjGUVUez",
        "colab": {
          "base_uri": "https://localhost:8080/"
        },
        "outputId": "1b358eeb-9395-4469-b35c-f5d42450ff6d"
      },
      "outputs": [
        {
          "output_type": "execute_result",
          "data": {
            "text/plain": [
              "array([10, 11, 12, 13, 14, 15, 16, 17, 18, 19, 20, 21, 22, 23, 24, 25, 26,\n",
              "       27, 28, 29, 30, 31, 32, 33, 34, 35, 36, 37, 38, 39, 40, 41, 42, 43,\n",
              "       44, 45, 46, 47, 48])"
            ]
          },
          "metadata": {},
          "execution_count": 14
        }
      ],
      "source": [
        "x=np.arange(10,49)\n",
        "x"
      ]
    },
    {
      "cell_type": "markdown",
      "metadata": {
        "id": "tpWktGssVUe0"
      },
      "source": [
        "#### 8.  Reverse a vector (first element becomes last) (★☆☆) \n",
        "(**hint**: array\\[::-1\\])"
      ]
    },
    {
      "cell_type": "code",
      "execution_count": null,
      "metadata": {
        "id": "EP3aGZxcVUe1",
        "colab": {
          "base_uri": "https://localhost:8080/"
        },
        "outputId": "cd6a2e89-cc65-4980-db20-138990c8869d"
      },
      "outputs": [
        {
          "output_type": "stream",
          "name": "stdout",
          "text": [
            "[49 48 47 46 45 44 43 42 41 40 39 38 37 36 35 34 33 32 31 30 29 28 27 26\n",
            " 25 24 23 22 21 20 19 18 17 16 15 14 13 12 11 10]\n"
          ]
        }
      ],
      "source": [
        "x=np.arange(10,50)\n",
        "print(x[::-1])"
      ]
    },
    {
      "cell_type": "markdown",
      "metadata": {
        "id": "mv-eCq5iVUe2"
      },
      "source": [
        "#### 9.  Create a 3x3 matrix with values ranging from 0 to 8 (★☆☆) \n",
        "(**hint**: reshape)"
      ]
    },
    {
      "cell_type": "code",
      "execution_count": null,
      "metadata": {
        "id": "W6SBl6GXVUe3",
        "colab": {
          "base_uri": "https://localhost:8080/"
        },
        "outputId": "78be3430-fcec-4205-9d69-d75173e15548"
      },
      "outputs": [
        {
          "output_type": "stream",
          "name": "stdout",
          "text": [
            "[[0 1 2]\n",
            " [3 4 5]\n",
            " [6 7 8]]\n"
          ]
        }
      ],
      "source": [
        "x=np.arange(0,9).reshape(3,3)\n",
        "print(x)\n"
      ]
    },
    {
      "cell_type": "markdown",
      "metadata": {
        "id": "f9Kj_2IiVUe3"
      },
      "source": [
        "#### 10. Find indices of non-zero elements from \\[1,2,0,0,4,0\\] (★☆☆) \n",
        "(**hint**: np.nonzero)"
      ]
    },
    {
      "cell_type": "code",
      "execution_count": null,
      "metadata": {
        "id": "7eVx53z3VUe4",
        "colab": {
          "base_uri": "https://localhost:8080/"
        },
        "outputId": "cfffd8bc-2e73-43c2-ad76-6c877f2ab431"
      },
      "outputs": [
        {
          "output_type": "stream",
          "name": "stdout",
          "text": [
            "(array([0, 1, 4]),)\n"
          ]
        }
      ],
      "source": [
        "x=[1,2,0,0,4,0]\n",
        "print(np.nonzero(x))"
      ]
    },
    {
      "cell_type": "markdown",
      "metadata": {
        "id": "eV091vVAVUe5"
      },
      "source": [
        "#### 11. Create a 3x3 identity matrix (★☆☆) \n",
        "(**hint**: np.eye)"
      ]
    },
    {
      "cell_type": "code",
      "execution_count": null,
      "metadata": {
        "id": "H5TeJTdkVUe5",
        "colab": {
          "base_uri": "https://localhost:8080/"
        },
        "outputId": "13e79520-2fc4-4a93-ae5b-0a159fbd9e7a"
      },
      "outputs": [
        {
          "output_type": "execute_result",
          "data": {
            "text/plain": [
              "array([[1., 0., 0.],\n",
              "       [0., 1., 0.],\n",
              "       [0., 0., 1.]])"
            ]
          },
          "metadata": {},
          "execution_count": 22
        }
      ],
      "source": [
        "x=np.eye(3,3)\n",
        "x"
      ]
    },
    {
      "cell_type": "markdown",
      "metadata": {
        "id": "OobTnZH3VUe6"
      },
      "source": [
        "#### 12. Create a 3x3x3 array with random values (★☆☆) \n",
        "(**hint**: np.random.random)"
      ]
    },
    {
      "cell_type": "code",
      "execution_count": null,
      "metadata": {
        "collapsed": true,
        "id": "nwyQqULRVUe6",
        "colab": {
          "base_uri": "https://localhost:8080/"
        },
        "outputId": "a5cb6c50-f616-4567-ffac-fee69c512c50"
      },
      "outputs": [
        {
          "output_type": "execute_result",
          "data": {
            "text/plain": [
              "array([[[32, 44, 24],\n",
              "        [43, 47, 11],\n",
              "        [27, 21, 29]],\n",
              "\n",
              "       [[21, 36, 25],\n",
              "        [39,  6, 11],\n",
              "        [36, 26, 23]],\n",
              "\n",
              "       [[11, 32, 34],\n",
              "        [ 3, 19, 47],\n",
              "        [42, 38, 46]]])"
            ]
          },
          "metadata": {},
          "execution_count": 26
        }
      ],
      "source": [
        "x=np.random.randint(50,size=(3,3,3))\n",
        "x"
      ]
    },
    {
      "cell_type": "markdown",
      "metadata": {
        "id": "95bT0Uz7VUe7"
      },
      "source": [
        "#### 13. Create a 10x10 array with random values and find the minimum and maximum values (★☆☆) \n",
        "(**hint**: min, max)"
      ]
    },
    {
      "cell_type": "code",
      "execution_count": null,
      "metadata": {
        "id": "eesA0lxjVUe7",
        "colab": {
          "base_uri": "https://localhost:8080/"
        },
        "outputId": "285a4e39-584e-4704-e93f-36b8f04e70b2"
      },
      "outputs": [
        {
          "output_type": "stream",
          "name": "stdout",
          "text": [
            "0 49\n"
          ]
        }
      ],
      "source": [
        "x=np.random.randint(50,size=(10,10))\n",
        "print(x.min(),x.max())"
      ]
    },
    {
      "cell_type": "markdown",
      "metadata": {
        "id": "OD6YYG_3VUe8"
      },
      "source": [
        "#### 14. Create a random vector of size 30 and find the mean value (★☆☆) \n",
        "(**hint**: mean)"
      ]
    },
    {
      "cell_type": "code",
      "execution_count": null,
      "metadata": {
        "id": "sxvtUTV-VUe8",
        "colab": {
          "base_uri": "https://localhost:8080/"
        },
        "outputId": "e76cc63d-a5be-4f4b-8ee9-aef9a68cc011"
      },
      "outputs": [
        {
          "output_type": "execute_result",
          "data": {
            "text/plain": [
              "0.5830655724126487"
            ]
          },
          "metadata": {},
          "execution_count": 35
        }
      ],
      "source": [
        "x=np.random.random(30)\n",
        "x.mean()"
      ]
    },
    {
      "cell_type": "markdown",
      "metadata": {
        "id": "LnoJbaN-VUe9"
      },
      "source": [
        "#### 15. Create a 2d array with 1 on the border and 0 inside (★☆☆) \n",
        "(**hint**: array\\[1:-1, 1:-1\\])"
      ]
    },
    {
      "cell_type": "code",
      "execution_count": null,
      "metadata": {
        "id": "zlQInUstVUe9",
        "colab": {
          "base_uri": "https://localhost:8080/"
        },
        "outputId": "eddca4c3-e382-49df-b2e0-6f4297c97030"
      },
      "outputs": [
        {
          "output_type": "stream",
          "name": "stdout",
          "text": [
            "[[1. 1. 1. 1. 1. 1. 1. 1. 1. 1.]\n",
            " [1. 0. 0. 0. 0. 0. 0. 0. 0. 1.]\n",
            " [1. 0. 0. 0. 0. 0. 0. 0. 0. 1.]\n",
            " [1. 0. 0. 0. 0. 0. 0. 0. 0. 1.]\n",
            " [1. 0. 0. 0. 0. 0. 0. 0. 0. 1.]\n",
            " [1. 0. 0. 0. 0. 0. 0. 0. 0. 1.]\n",
            " [1. 0. 0. 0. 0. 0. 0. 0. 0. 1.]\n",
            " [1. 0. 0. 0. 0. 0. 0. 0. 0. 1.]\n",
            " [1. 0. 0. 0. 0. 0. 0. 0. 0. 1.]\n",
            " [1. 1. 1. 1. 1. 1. 1. 1. 1. 1.]]\n"
          ]
        }
      ],
      "source": [
        "x=np.ones((10,10))\n",
        "x[1:-1,1:-1]=0\n",
        "print(x)"
      ]
    },
    {
      "cell_type": "markdown",
      "metadata": {
        "id": "xsc2PawBVUe9"
      },
      "source": [
        "#### 16. How to add a border (filled with 0's) around an existing array? (★☆☆) \n",
        "(**hint**: np.pad)"
      ]
    },
    {
      "cell_type": "code",
      "execution_count": null,
      "metadata": {
        "id": "Z0drRwNyVUe-",
        "colab": {
          "base_uri": "https://localhost:8080/"
        },
        "outputId": "9014ec2c-cc1a-4b3c-dfb0-0660c1f8171e"
      },
      "outputs": [
        {
          "output_type": "stream",
          "name": "stdout",
          "text": [
            "[[0. 0. 0. 0. 0. 0. 0. 0. 0. 0. 0. 0.]\n",
            " [0. 1. 1. 1. 1. 1. 1. 1. 1. 1. 1. 0.]\n",
            " [0. 1. 1. 1. 1. 1. 1. 1. 1. 1. 1. 0.]\n",
            " [0. 1. 1. 1. 1. 1. 1. 1. 1. 1. 1. 0.]\n",
            " [0. 1. 1. 1. 1. 1. 1. 1. 1. 1. 1. 0.]\n",
            " [0. 1. 1. 1. 1. 1. 1. 1. 1. 1. 1. 0.]\n",
            " [0. 1. 1. 1. 1. 1. 1. 1. 1. 1. 1. 0.]\n",
            " [0. 1. 1. 1. 1. 1. 1. 1. 1. 1. 1. 0.]\n",
            " [0. 1. 1. 1. 1. 1. 1. 1. 1. 1. 1. 0.]\n",
            " [0. 1. 1. 1. 1. 1. 1. 1. 1. 1. 1. 0.]\n",
            " [0. 1. 1. 1. 1. 1. 1. 1. 1. 1. 1. 0.]\n",
            " [0. 0. 0. 0. 0. 0. 0. 0. 0. 0. 0. 0.]]\n"
          ]
        }
      ],
      "source": [
        "x=np.ones((10,10))\n",
        "y=np.pad(array=x,pad_width=1,mode='constant')\n",
        "print(y)"
      ]
    },
    {
      "cell_type": "markdown",
      "metadata": {
        "id": "daBivJm4VUe-"
      },
      "source": [
        "#### 17. What is the result of the following expression? (★☆☆) \n",
        "(**hint**: NaN = not a number, inf = infinity)"
      ]
    },
    {
      "cell_type": "markdown",
      "metadata": {
        "id": "njNvFsDCVUe_"
      },
      "source": [
        "```python\n",
        "0 * np.nan\n",
        "np.nan == np.nan\n",
        "np.inf > np.nan\n",
        "np.nan - np.nan\n",
        "0.3 == 3 * 0.1\n",
        "```"
      ]
    },
    {
      "cell_type": "code",
      "execution_count": null,
      "metadata": {
        "id": "Yi5hGTmrVUfA",
        "colab": {
          "base_uri": "https://localhost:8080/"
        },
        "outputId": "da7fefb8-90fe-4945-e65c-835ae8e7d6bc"
      },
      "outputs": [
        {
          "output_type": "stream",
          "name": "stdout",
          "text": [
            "nan\n",
            "False\n",
            "False\n",
            "nan\n",
            "False\n"
          ]
        }
      ],
      "source": [
        "print(0 * np.nan)                 #NaN\n",
        "print(np.nan == np.nan)           #False\n",
        "print(np.inf > np.nan)            #False\n",
        "print(np.nan - np.nan)            #NaN\n",
        "print(0.3 == 3 * 0.1)             #False"
      ]
    },
    {
      "cell_type": "markdown",
      "metadata": {
        "id": "J4W1ssAOVUfB"
      },
      "source": [
        "#### 18. Create a 5x5 matrix with values 1,2,3,4 just below the diagonal (★☆☆) \n",
        "(**hint**: np.diag)"
      ]
    },
    {
      "cell_type": "code",
      "execution_count": null,
      "metadata": {
        "id": "AXIOBR8nVUfC",
        "colab": {
          "base_uri": "https://localhost:8080/"
        },
        "outputId": "f4c7b5eb-bcf9-455c-906e-8a7cf38a7385"
      },
      "outputs": [
        {
          "output_type": "execute_result",
          "data": {
            "text/plain": [
              "array([[0, 1, 0, 0, 0],\n",
              "       [0, 0, 2, 0, 0],\n",
              "       [0, 0, 0, 3, 0],\n",
              "       [0, 0, 0, 0, 3],\n",
              "       [0, 0, 0, 0, 0]])"
            ]
          },
          "metadata": {},
          "execution_count": 62
        }
      ],
      "source": [
        "x=np.diag([1,2,3,3],k=1)\n",
        "x\n",
        "\n"
      ]
    },
    {
      "cell_type": "markdown",
      "metadata": {
        "id": "zIWgg3qbVUfC"
      },
      "source": [
        "#### 19. Create a 8x8 matrix and fill it with a checkerboard pattern (★☆☆) \n",
        "(**hint**: array\\[::2\\])"
      ]
    },
    {
      "cell_type": "code",
      "execution_count": null,
      "metadata": {
        "id": "5uv3e9LfVUfD",
        "colab": {
          "base_uri": "https://localhost:8080/"
        },
        "outputId": "fa27d891-517a-4df3-dd17-692d4d2f0ab1"
      },
      "outputs": [
        {
          "output_type": "execute_result",
          "data": {
            "text/plain": [
              "array([[1, 0, 1, 0, 1, 0, 1, 0],\n",
              "       [0, 1, 0, 1, 0, 1, 0, 1],\n",
              "       [1, 0, 1, 0, 1, 0, 1, 0],\n",
              "       [0, 1, 0, 1, 0, 1, 0, 1],\n",
              "       [1, 0, 1, 0, 1, 0, 1, 0],\n",
              "       [0, 1, 0, 1, 0, 1, 0, 1],\n",
              "       [1, 0, 1, 0, 1, 0, 1, 0],\n",
              "       [0, 1, 0, 1, 0, 1, 0, 1]])"
            ]
          },
          "metadata": {},
          "execution_count": 57
        }
      ],
      "source": [
        "x=np.ones(((8,8)),dtype=int)\n",
        "x[1::2,::2]=0\n",
        "x[::2,1::2]=0\n",
        "x"
      ]
    },
    {
      "cell_type": "markdown",
      "metadata": {
        "id": "UMau8pVuVUfF"
      },
      "source": [
        "#### 20. Consider a (6,7,8) shape array, what is the index (x,y,z) of the 100th element? \n",
        "(**hint**: np.unravel_index)"
      ]
    },
    {
      "cell_type": "code",
      "execution_count": null,
      "metadata": {
        "id": "9ZzLTqNAVUfH",
        "colab": {
          "base_uri": "https://localhost:8080/"
        },
        "outputId": "62a666c8-9416-4fd4-972c-952f2202cef1"
      },
      "outputs": [
        {
          "output_type": "execute_result",
          "data": {
            "text/plain": [
              "(1, 5, 4)"
            ]
          },
          "metadata": {},
          "execution_count": 61
        }
      ],
      "source": [
        "x=np.unravel_index(100,(6,7,8))\n",
        "x\n"
      ]
    },
    {
      "cell_type": "markdown",
      "metadata": {
        "id": "bwtU9n56VUfI"
      },
      "source": [
        "#### 21. Create a checkerboard 8x8 matrix using the tile function (★☆☆) \n",
        "(**hint**: np.tile)"
      ]
    },
    {
      "cell_type": "code",
      "execution_count": null,
      "metadata": {
        "id": "mPrJMIieVUfI",
        "colab": {
          "base_uri": "https://localhost:8080/"
        },
        "outputId": "4347e07b-0a41-4227-faad-143c8644b25a"
      },
      "outputs": [
        {
          "output_type": "execute_result",
          "data": {
            "text/plain": [
              "array([[1, 2, 1, 2, 1, 2, 1, 2, 1, 2, 1, 2, 1, 2, 1, 2],\n",
              "       [8, 9, 8, 9, 8, 9, 8, 9, 8, 9, 8, 9, 8, 9, 8, 9],\n",
              "       [1, 2, 1, 2, 1, 2, 1, 2, 1, 2, 1, 2, 1, 2, 1, 2],\n",
              "       [8, 9, 8, 9, 8, 9, 8, 9, 8, 9, 8, 9, 8, 9, 8, 9],\n",
              "       [1, 2, 1, 2, 1, 2, 1, 2, 1, 2, 1, 2, 1, 2, 1, 2],\n",
              "       [8, 9, 8, 9, 8, 9, 8, 9, 8, 9, 8, 9, 8, 9, 8, 9],\n",
              "       [1, 2, 1, 2, 1, 2, 1, 2, 1, 2, 1, 2, 1, 2, 1, 2],\n",
              "       [8, 9, 8, 9, 8, 9, 8, 9, 8, 9, 8, 9, 8, 9, 8, 9],\n",
              "       [1, 2, 1, 2, 1, 2, 1, 2, 1, 2, 1, 2, 1, 2, 1, 2],\n",
              "       [8, 9, 8, 9, 8, 9, 8, 9, 8, 9, 8, 9, 8, 9, 8, 9],\n",
              "       [1, 2, 1, 2, 1, 2, 1, 2, 1, 2, 1, 2, 1, 2, 1, 2],\n",
              "       [8, 9, 8, 9, 8, 9, 8, 9, 8, 9, 8, 9, 8, 9, 8, 9],\n",
              "       [1, 2, 1, 2, 1, 2, 1, 2, 1, 2, 1, 2, 1, 2, 1, 2],\n",
              "       [8, 9, 8, 9, 8, 9, 8, 9, 8, 9, 8, 9, 8, 9, 8, 9],\n",
              "       [1, 2, 1, 2, 1, 2, 1, 2, 1, 2, 1, 2, 1, 2, 1, 2],\n",
              "       [8, 9, 8, 9, 8, 9, 8, 9, 8, 9, 8, 9, 8, 9, 8, 9]])"
            ]
          },
          "metadata": {},
          "execution_count": 64
        }
      ],
      "source": [
        "x=np.tile([[1,2],[8,9]],(8,8))\n",
        "x"
      ]
    },
    {
      "cell_type": "markdown",
      "metadata": {
        "id": "_V_R0ZoUVUfJ"
      },
      "source": [
        "#### 22. Normalize a 5x5 random matrix (★☆☆) \n",
        "(**hint**: (x - min) / (max - min))"
      ]
    },
    {
      "cell_type": "code",
      "execution_count": 66,
      "metadata": {
        "id": "kcoiM7iLVUfJ",
        "colab": {
          "base_uri": "https://localhost:8080/"
        },
        "outputId": "cd422dbb-9d7c-4c60-b28c-aa499358b048"
      },
      "outputs": [
        {
          "output_type": "stream",
          "name": "stdout",
          "text": [
            "[[ 0.66177101  0.33490226  0.03574494  0.69333925  0.61832401]\n",
            " [ 0.58481413  0.55687582  0.08822382  0.77632047  0.09936089]\n",
            " [ 0.62581722  0.840782    0.85308703  0.68161995  0.41778477]\n",
            " [ 0.42382821  0.35019041  0.80476634 -0.06215669  0.77505433]\n",
            " [ 0.49765748  0.789423    0.78402165  0.20112371  0.33333452]]\n"
          ]
        }
      ],
      "source": [
        "x=np.random.random((5,5))\n",
        "print(x-(x.min())/(x.max())-(x.min()))"
      ]
    },
    {
      "cell_type": "markdown",
      "metadata": {
        "id": "GVXX_BYSVUfK"
      },
      "source": [
        "#### 23. Create a custom dtype that describes a color as four unsigned bytes (RGBA) (★☆☆) \n",
        "(**hint**: np.dtype)"
      ]
    },
    {
      "cell_type": "code",
      "execution_count": 71,
      "metadata": {
        "collapsed": true,
        "id": "_upvSPmjVUfK",
        "colab": {
          "base_uri": "https://localhost:8080/"
        },
        "outputId": "71eeaa1b-5f6e-4500-ed3c-aad1f9c6d676"
      },
      "outputs": [
        {
          "output_type": "stream",
          "name": "stdout",
          "text": [
            "[('r', 'u1'), ('g', 'u1'), ('b', 'u1'), ('a', 'u1')]\n"
          ]
        }
      ],
      "source": [
        "RGBA = np.dtype([(\"r\", np.ubyte),\n",
        "                  (\"g\", np.ubyte),\n",
        "                  (\"b\", np.ubyte),\n",
        "                  (\"a\", np.ubyte)])\n",
        "print(RGBA)\n"
      ]
    },
    {
      "cell_type": "markdown",
      "metadata": {
        "id": "6p3GN_V9VUfL"
      },
      "source": [
        "#### 24. Multiply a 5x3 matrix by a 3x2 matrix (real matrix product) (★☆☆) \n",
        "(**hint**: np.dot | @)"
      ]
    },
    {
      "cell_type": "code",
      "execution_count": 73,
      "metadata": {
        "id": "0jR3DzOCVUfM",
        "colab": {
          "base_uri": "https://localhost:8080/"
        },
        "outputId": "3a2aac43-2f12-43b8-c18c-6b99e7cada3a"
      },
      "outputs": [
        {
          "output_type": "stream",
          "name": "stdout",
          "text": [
            "[[0.35878133 0.63157271]\n",
            " [0.26149122 0.50943146]\n",
            " [0.32191015 0.58812206]\n",
            " [0.4936114  0.88995202]\n",
            " [0.21781203 0.39006234]]\n"
          ]
        }
      ],
      "source": [
        "x=np.random.random((5,3))\n",
        "y=np.random.random((3,2))\n",
        "z=np.dot(x,y)\n",
        "print(z)"
      ]
    },
    {
      "cell_type": "markdown",
      "metadata": {
        "id": "DRXhmmD9VUfM"
      },
      "source": [
        "#### 25. Given a 1D array, negate all elements which are between 3 and 8, in place. (★☆☆) \n",
        "(**hint**: >, <=)"
      ]
    },
    {
      "cell_type": "code",
      "execution_count": 84,
      "metadata": {
        "id": "5NotMmPnVUfN",
        "colab": {
          "base_uri": "https://localhost:8080/"
        },
        "outputId": "4eaca8f3-73df-4ab5-8506-18cf768e91fd"
      },
      "outputs": [
        {
          "output_type": "execute_result",
          "data": {
            "text/plain": [
              "array([0, 1, 2, 0, 0, 0, 0, 0, 0, 9])"
            ]
          },
          "metadata": {},
          "execution_count": 84
        }
      ],
      "source": [
        "x = np.arange(10)\n",
        "x[(x > 2) & (x <= 8)] = 0\n",
        "x"
      ]
    },
    {
      "cell_type": "markdown",
      "metadata": {
        "id": "HZS_pxqLVUfN"
      },
      "source": [
        "#### 26. What is the output of the following script? (★☆☆) \n",
        "(**hint**: np.sum)"
      ]
    },
    {
      "cell_type": "markdown",
      "metadata": {
        "id": "hf18teEoVUfO"
      },
      "source": [
        "```python\n",
        "# Author: Jake VanderPlas\n",
        "\n",
        "print(sum(range(5),-1))\n",
        "from numpy import *\n",
        "print(sum(range(5),-1))\n",
        "```"
      ]
    },
    {
      "cell_type": "code",
      "execution_count": 85,
      "metadata": {
        "id": "yg_8RXGOVUfP",
        "colab": {
          "base_uri": "https://localhost:8080/"
        },
        "outputId": "31a92667-7abf-4e1b-dbe1-7111f774b06e"
      },
      "outputs": [
        {
          "output_type": "stream",
          "name": "stdout",
          "text": [
            "9\n",
            "10\n"
          ]
        }
      ],
      "source": [
        "print(sum(range(5),-1))          #9\n",
        "from numpy import *\n",
        "print(sum(range(5),-1))          #10"
      ]
    },
    {
      "cell_type": "markdown",
      "metadata": {
        "id": "gNEhkRb7VUfP"
      },
      "source": [
        "#### 27. Consider an integer vector Z, which of these expressions are legal? (★☆☆)"
      ]
    },
    {
      "cell_type": "markdown",
      "metadata": {
        "id": "7Zr7npglVUfP"
      },
      "source": [
        "```python\n",
        "Z**Z\n",
        "2 << Z >> 2\n",
        "Z <- Z\n",
        "1j*Z\n",
        "Z/1/1\n",
        "Z<Z>Z\n",
        "```"
      ]
    },
    {
      "cell_type": "code",
      "execution_count": 91,
      "metadata": {
        "id": "F5Wead5fVUfQ",
        "colab": {
          "base_uri": "https://localhost:8080/",
          "height": 287
        },
        "outputId": "0579595b-afee-4856-a0cf-6639499a3a2e"
      },
      "outputs": [
        {
          "output_type": "stream",
          "name": "stdout",
          "text": [
            "[  1   1   4  27 256]\n",
            "[0 1 2 4 8]\n",
            "[False False False False False]\n",
            "[0.+0.j 0.+1.j 0.+2.j 0.+3.j 0.+4.j]\n",
            "[0. 1. 2. 3. 4.]\n"
          ]
        },
        {
          "output_type": "error",
          "ename": "ValueError",
          "evalue": "ignored",
          "traceback": [
            "\u001b[0;31m---------------------------------------------------------------------------\u001b[0m",
            "\u001b[0;31mValueError\u001b[0m                                Traceback (most recent call last)",
            "\u001b[0;32m<ipython-input-91-978290551917>\u001b[0m in \u001b[0;36m<module>\u001b[0;34m\u001b[0m\n\u001b[1;32m      5\u001b[0m \u001b[0mprint\u001b[0m\u001b[0;34m(\u001b[0m\u001b[0;36m1j\u001b[0m\u001b[0;34m*\u001b[0m\u001b[0mZ\u001b[0m\u001b[0;34m)\u001b[0m\u001b[0;34m\u001b[0m\u001b[0;34m\u001b[0m\u001b[0m\n\u001b[1;32m      6\u001b[0m \u001b[0mprint\u001b[0m\u001b[0;34m(\u001b[0m\u001b[0mZ\u001b[0m\u001b[0;34m/\u001b[0m\u001b[0;36m1\u001b[0m\u001b[0;34m/\u001b[0m\u001b[0;36m1\u001b[0m\u001b[0;34m)\u001b[0m\u001b[0;34m\u001b[0m\u001b[0;34m\u001b[0m\u001b[0m\n\u001b[0;32m----> 7\u001b[0;31m \u001b[0mprint\u001b[0m\u001b[0;34m(\u001b[0m\u001b[0mZ\u001b[0m\u001b[0;34m<\u001b[0m\u001b[0mZ\u001b[0m\u001b[0;34m>\u001b[0m\u001b[0mZ\u001b[0m\u001b[0;34m)\u001b[0m\u001b[0;34m\u001b[0m\u001b[0;34m\u001b[0m\u001b[0m\n\u001b[0m",
            "\u001b[0;31mValueError\u001b[0m: The truth value of an array with more than one element is ambiguous. Use a.any() or a.all()"
          ]
        }
      ],
      "source": [
        "Z=np.arange(5)\n",
        "print(Z**Z)\n",
        "print(2 << Z >> 2)\n",
        "print(Z <- Z)\n",
        "print(1j*Z)\n",
        "print(Z/1/1)\n",
        "print(Z<Z>Z)            #ValueError"
      ]
    },
    {
      "cell_type": "markdown",
      "metadata": {
        "id": "BzmqJ-koVUfQ"
      },
      "source": [
        "#### 28. What are the result of the following expressions?"
      ]
    },
    {
      "cell_type": "markdown",
      "metadata": {
        "id": "poVGOqecVUfQ"
      },
      "source": [
        "```python\n",
        "np.array(0) / np.array(0)\n",
        "np.array(0) // np.array(0)\n",
        "np.array([np.nan]).astype(int).astype(float)\n",
        "```"
      ]
    },
    {
      "cell_type": "code",
      "execution_count": 96,
      "metadata": {
        "id": "QeewACj1VUfQ",
        "colab": {
          "base_uri": "https://localhost:8080/"
        },
        "outputId": "55455cf9-bf48-419d-948c-bd2325e493f6"
      },
      "outputs": [
        {
          "output_type": "stream",
          "name": "stdout",
          "text": [
            "nan\n",
            "0\n",
            "[-9.22337204e+18]\n"
          ]
        },
        {
          "output_type": "stream",
          "name": "stderr",
          "text": [
            "/usr/local/lib/python3.7/dist-packages/ipykernel_launcher.py:2: RuntimeWarning: invalid value encountered in true_divide\n",
            "  \n",
            "/usr/local/lib/python3.7/dist-packages/ipykernel_launcher.py:3: RuntimeWarning: divide by zero encountered in floor_divide\n",
            "  This is separate from the ipykernel package so we can avoid doing imports until\n"
          ]
        }
      ],
      "source": [
        "x=np.array(0)\n",
        "print(x/x)\n",
        "print(x//x)\n",
        "print(np.array([np.nan]).astype(int).astype(float))"
      ]
    },
    {
      "cell_type": "markdown",
      "metadata": {
        "id": "WC3jKRTFVUfQ"
      },
      "source": [
        "#### 29. How to round away from zero a float array ? (★☆☆) \n",
        "(**hint**: np.uniform, np.copysign, np.ceil, np.abs)"
      ]
    },
    {
      "cell_type": "code",
      "execution_count": 97,
      "metadata": {
        "id": "Ic3ShvYLVUfR",
        "colab": {
          "base_uri": "https://localhost:8080/"
        },
        "outputId": "8e136c47-6d2d-47ca-e746-c3262bad1139"
      },
      "outputs": [
        {
          "output_type": "execute_result",
          "data": {
            "text/plain": [
              "array([-1., -4., -7.,  8.,  6., -5.,  3.,  5., 10.,  5.])"
            ]
          },
          "metadata": {},
          "execution_count": 97
        }
      ],
      "source": [
        "x = np.random.uniform(-10, +10, 10)\n",
        "np.copysign(np.ceil(np.abs(x)), x)"
      ]
    },
    {
      "cell_type": "markdown",
      "metadata": {
        "id": "5cSUEESOVUfR"
      },
      "source": [
        "#### 30. How to find common values between two arrays? (★☆☆) \n",
        "(**hint**: np.intersect1d)"
      ]
    },
    {
      "cell_type": "code",
      "execution_count": 98,
      "metadata": {
        "id": "F4pUxKx7VUfR",
        "colab": {
          "base_uri": "https://localhost:8080/"
        },
        "outputId": "df06994d-1d37-431e-9038-8a185d0fa9cd"
      },
      "outputs": [
        {
          "output_type": "execute_result",
          "data": {
            "text/plain": [
              "array([5, 6, 7, 8, 9])"
            ]
          },
          "metadata": {},
          "execution_count": 98
        }
      ],
      "source": [
        "x = np.arange(0, 10)\n",
        "y = np.arange(5, 15)\n",
        "np.intersect1d(x, y)"
      ]
    },
    {
      "cell_type": "markdown",
      "metadata": {
        "id": "rItebwndVUfR"
      },
      "source": [
        "#### 31. How to ignore all numpy warnings (not recommended)? (★☆☆) \n",
        "(**hint**: np.seterr, np.errstate)"
      ]
    },
    {
      "cell_type": "code",
      "execution_count": 105,
      "metadata": {
        "id": "CGnh_kuoVUfS"
      },
      "outputs": [],
      "source": []
    },
    {
      "cell_type": "markdown",
      "metadata": {
        "id": "g3R0wT2IVUfS"
      },
      "source": [
        "#### 32. Is the following expressions true? (★☆☆) \n",
        "(**hint**: imaginary number)"
      ]
    },
    {
      "cell_type": "markdown",
      "metadata": {
        "id": "1nXBOaVOVUfS"
      },
      "source": [
        "```python\n",
        "np.sqrt(-1) == np.emath.sqrt(-1)\n",
        "```"
      ]
    },
    {
      "cell_type": "code",
      "execution_count": 106,
      "metadata": {
        "id": "7prYTQp0VUfS",
        "colab": {
          "base_uri": "https://localhost:8080/"
        },
        "outputId": "e9a1c8c4-fc9c-446b-e6ed-86baaed8f06a"
      },
      "outputs": [
        {
          "output_type": "stream",
          "name": "stdout",
          "text": [
            "False\n"
          ]
        }
      ],
      "source": [
        "print(np.sqrt(-1) == np.emath.sqrt(-1))    # False"
      ]
    },
    {
      "cell_type": "markdown",
      "metadata": {
        "id": "kqJ9T7nPVUfT"
      },
      "source": [
        "#### 33. How to get the dates of yesterday, today and tomorrow? (★☆☆) \n",
        "(**hint**: np.datetime64, np.timedelta64)"
      ]
    },
    {
      "cell_type": "code",
      "execution_count": 130,
      "metadata": {
        "collapsed": true,
        "id": "4CxcO3ZzVUfT",
        "colab": {
          "base_uri": "https://localhost:8080/"
        },
        "outputId": "de98354c-b674-4776-b34e-d1ea7f0d03f3"
      },
      "outputs": [
        {
          "output_type": "stream",
          "name": "stdout",
          "text": [
            "Today:  2022-11-06\n",
            "Yesterday:  2022-11-05\n",
            "Tomorrow:  2022-11-07\n"
          ]
        }
      ],
      "source": [
        "x=np.datetime64('today','D')\n",
        "y=np.datetime64((x-1),'D')\n",
        "z=np.datetime64((x+1),'D')\n",
        "print(\"Today: \",x)\n",
        "print(\"Yesterday: \",y)\n",
        "print(\"Tomorrow: \",z)\n",
        "\n"
      ]
    },
    {
      "cell_type": "markdown",
      "metadata": {
        "id": "oazHlhLxVUfT"
      },
      "source": [
        "#### 34. How to get all the dates corresponding to the month of July 2016? (★★☆) \n",
        "(**hint**: np.arange(dtype=datetime64\\['D'\\]))"
      ]
    },
    {
      "cell_type": "code",
      "execution_count": 140,
      "metadata": {
        "id": "AHyVpIsbVUfU",
        "colab": {
          "base_uri": "https://localhost:8080/"
        },
        "outputId": "b7e1bbfe-40fe-46ac-869e-a5bb9163471a"
      },
      "outputs": [
        {
          "output_type": "stream",
          "name": "stdout",
          "text": [
            "['2016-07-01' '2016-07-02' '2016-07-03' '2016-07-04' '2016-07-05'\n",
            " '2016-07-06' '2016-07-07' '2016-07-08' '2016-07-09' '2016-07-10'\n",
            " '2016-07-11' '2016-07-12' '2016-07-13' '2016-07-14' '2016-07-15'\n",
            " '2016-07-16' '2016-07-17' '2016-07-18' '2016-07-19' '2016-07-20'\n",
            " '2016-07-21' '2016-07-22' '2016-07-23' '2016-07-24' '2016-07-25'\n",
            " '2016-07-26' '2016-07-27' '2016-07-28' '2016-07-29' '2016-07-30'\n",
            " '2016-07-31']\n"
          ]
        }
      ],
      "source": [
        "x=np.arange('2016-07','2016-08',dtype='datetime64[D]')\n",
        "print(x)"
      ]
    },
    {
      "cell_type": "markdown",
      "metadata": {
        "id": "2JtuSRJHVUfU"
      },
      "source": [
        "#### 35. How to compute ((A+B)\\*(-A/2)) in place (without copy)? (★★☆) \n",
        "(**hint**: np.add(out=), np.negative(out=), np.multiply(out=), np.divide(out=))"
      ]
    },
    {
      "cell_type": "code",
      "execution_count": 147,
      "metadata": {
        "id": "WpvoDtiVVUfV",
        "colab": {
          "base_uri": "https://localhost:8080/"
        },
        "outputId": "df0fb3f8-318a-4688-ae69-62436dcc3318"
      },
      "outputs": [
        {
          "output_type": "execute_result",
          "data": {
            "text/plain": [
              "array([-1.5, -1.5, -1.5])"
            ]
          },
          "metadata": {},
          "execution_count": 147
        }
      ],
      "source": [
        "a=np.ones(3)\n",
        "b=np.ones(3)*2\n",
        "np.add(a,b,out=b)                         #output named as \"out=b\"\n",
        "np.negative(np.divide(a,2,out=a),out=a)   #output named as \"out=a\"\n",
        "np.multiply(b,a,out=a)                    #multipying output of prevoius codes of b,a     in that b=(a+b) , a=(-a/2)"
      ]
    },
    {
      "cell_type": "markdown",
      "metadata": {
        "id": "s2aSe1ZdVUfV"
      },
      "source": [
        "#### 36. Extract the integer part of a random array using 5 different methods (★★☆) \n",
        "(**hint**: %, np.floor, np.ceil, astype, np.trunc)"
      ]
    },
    {
      "cell_type": "code",
      "execution_count": 21,
      "metadata": {
        "id": "bkZNi1XkVUfW",
        "colab": {
          "base_uri": "https://localhost:8080/"
        },
        "outputId": "840671bf-f6b3-4952-98e3-910001f1d233"
      },
      "outputs": [
        {
          "output_type": "stream",
          "name": "stdout",
          "text": [
            "[0.5507385  0.06216258 0.0321309  0.53580008 0.80580783 0.01855229\n",
            " 0.87093741 0.84506505 0.81699744 0.2610163 ]\n",
            "1st Method: [0. 0. 0. 0. 0. 0. 0. 0. 0. 0.]\n",
            "2nd Method: [0. 0. 0. 0. 0. 0. 0. 0. 0. 0.]\n",
            "3rd Method: [0. 0. 0. 0. 0. 0. 0. 0. 0. 0.]\n",
            "4th Method: [0 0 0 0 0 0 0 0 0 0]\n",
            "5th Method: [0. 0. 0. 0. 0. 0. 0. 0. 0. 0.]\n"
          ]
        }
      ],
      "source": [
        "import numpy as np\n",
        "x=np.random.random(10)\n",
        "y1=x-x%1\n",
        "print(x)\n",
        "print(\"1st Method:\",y1)\n",
        "\n",
        "y2=np.ceil(x)-1\n",
        "print(\"2nd Method:\",y2)\n",
        "\n",
        "y3=np.floor(x)\n",
        "print(\"3rd Method:\",y3)\n",
        "\n",
        "y4=x.astype(int)\n",
        "print(\"4th Method:\",y4)\n",
        "\n",
        "y5=np.trunc(x)\n",
        "print(\"5th Method:\",y5)"
      ]
    },
    {
      "cell_type": "markdown",
      "metadata": {
        "id": "j_Exv4LMVUfW"
      },
      "source": [
        "#### 37. Create a 5x5 matrix with row values ranging from 0 to 4 (★★☆) \n",
        "(**hint**: np.arange)"
      ]
    },
    {
      "cell_type": "code",
      "execution_count": 38,
      "metadata": {
        "id": "LNWAg2l8VUfW",
        "colab": {
          "base_uri": "https://localhost:8080/"
        },
        "outputId": "d54010c5-21e2-4e29-ba2b-5d51dac4f2d9"
      },
      "outputs": [
        {
          "output_type": "execute_result",
          "data": {
            "text/plain": [
              "array([[0., 1., 2., 3., 4.],\n",
              "       [0., 1., 2., 3., 4.],\n",
              "       [0., 1., 2., 3., 4.],\n",
              "       [0., 1., 2., 3., 4.],\n",
              "       [0., 1., 2., 3., 4.]])"
            ]
          },
          "metadata": {},
          "execution_count": 38
        }
      ],
      "source": [
        "x=np.zeros((5,5))\n",
        "x+=np.arange(5)\n",
        "x\n"
      ]
    },
    {
      "cell_type": "markdown",
      "metadata": {
        "id": "Hya5yA62VUfW"
      },
      "source": [
        "#### 38. Consider a generator function that generates 10 integers and use it to build an array (★☆☆) \n",
        "(**hint**: np.fromiter)"
      ]
    },
    {
      "cell_type": "code",
      "execution_count": 39,
      "metadata": {
        "id": "n0Ebaz_-VUfX",
        "colab": {
          "base_uri": "https://localhost:8080/"
        },
        "outputId": "42bdfe4b-5b31-45a8-886d-239d36edb009"
      },
      "outputs": [
        {
          "output_type": "execute_result",
          "data": {
            "text/plain": [
              "array([0., 1., 2., 3., 4., 5., 6., 7., 8., 9.], dtype=float32)"
            ]
          },
          "metadata": {},
          "execution_count": 39
        }
      ],
      "source": [
        "def generate_integers():\n",
        "    for i in range(10):\n",
        "        yield i\n",
        "np.fromiter(generate_integers(), dtype=np.float32, count=-1)"
      ]
    },
    {
      "cell_type": "markdown",
      "metadata": {
        "id": "YnVnFn7BVUfX"
      },
      "source": [
        "#### 39. Create a vector of size 10 with values ranging from 0 to 1, both excluded (★★☆) \n",
        "(**hint**: np.linspace)"
      ]
    },
    {
      "cell_type": "code",
      "execution_count": 40,
      "metadata": {
        "id": "J7SfsNSRVUfY",
        "colab": {
          "base_uri": "https://localhost:8080/"
        },
        "outputId": "97571dc7-e80e-4a19-d582-87a4b978f4e2"
      },
      "outputs": [
        {
          "output_type": "execute_result",
          "data": {
            "text/plain": [
              "array([0. , 1.1, 2.2, 3.3, 4.4, 5.5, 6.6, 7.7, 8.8, 9.9])"
            ]
          },
          "metadata": {},
          "execution_count": 40
        }
      ],
      "source": [
        "np.linspace(start=0, stop=11, num=10, endpoint=False)"
      ]
    },
    {
      "cell_type": "markdown",
      "metadata": {
        "id": "7VxUVYRuVUfY"
      },
      "source": [
        "#### 40. Create a random vector of size 10 and sort it (★★☆) \n",
        "(**hint**: sort)"
      ]
    },
    {
      "cell_type": "code",
      "execution_count": 41,
      "metadata": {
        "id": "AtWWjUjHVUfY"
      },
      "outputs": [],
      "source": [
        "x = np.random.random(size=10)\n",
        "x.sort()"
      ]
    },
    {
      "cell_type": "markdown",
      "metadata": {
        "id": "e9x0F5VFVUfY"
      },
      "source": [
        "#### 41. How to sum a small array faster than np.sum? (★★☆) \n",
        "(**hint**: np.add.reduce)"
      ]
    },
    {
      "cell_type": "code",
      "execution_count": 43,
      "metadata": {
        "id": "WZnneSROVUfZ",
        "colab": {
          "base_uri": "https://localhost:8080/"
        },
        "outputId": "f0d38d56-89e7-4637-cce7-de239c91353a"
      },
      "outputs": [
        {
          "output_type": "stream",
          "name": "stdout",
          "text": [
            "4.782615005225469\n",
            "4.782615005225469\n"
          ]
        }
      ],
      "source": [
        "x=np.random.random(10)\n",
        "print(np.sum(x))\n",
        "print(np.add.reduce(x))"
      ]
    },
    {
      "cell_type": "markdown",
      "metadata": {
        "id": "eB89jSv-VUfZ"
      },
      "source": [
        "#### 42. Consider two random array A and B, check if they are equal (★★☆) \n",
        "(**hint**: np.allclose, np.array\\_equal)"
      ]
    },
    {
      "cell_type": "code",
      "execution_count": 44,
      "metadata": {
        "id": "o3dShuDfVUfZ",
        "colab": {
          "base_uri": "https://localhost:8080/"
        },
        "outputId": "e1320e01-3e0e-4876-97a1-aa43b7c69f3a"
      },
      "outputs": [
        {
          "output_type": "execute_result",
          "data": {
            "text/plain": [
              "True"
            ]
          },
          "metadata": {},
          "execution_count": 44
        }
      ],
      "source": [
        "x = np.arange(10)\n",
        "y = np.arange(10)\n",
        "np.array_equal(x,y)"
      ]
    },
    {
      "cell_type": "markdown",
      "metadata": {
        "id": "Uy0V1PWJVUfZ"
      },
      "source": [
        "#### 43. Make an array immutable (read-only) (★★☆) \n",
        "(**hint**: flags.writeable)"
      ]
    },
    {
      "cell_type": "code",
      "execution_count": 48,
      "metadata": {
        "id": "NLuBFqDzVUfa",
        "colab": {
          "base_uri": "https://localhost:8080/",
          "height": 200
        },
        "outputId": "71d61441-1cdb-4330-e43d-a7372cb606c0"
      },
      "outputs": [
        {
          "output_type": "error",
          "ename": "ValueError",
          "evalue": "ignored",
          "traceback": [
            "\u001b[0;31m---------------------------------------------------------------------------\u001b[0m",
            "\u001b[0;31mValueError\u001b[0m                                Traceback (most recent call last)",
            "\u001b[0;32m<ipython-input-48-3bf68f9d1210>\u001b[0m in \u001b[0;36m<module>\u001b[0;34m\u001b[0m\n\u001b[1;32m      1\u001b[0m \u001b[0mx\u001b[0m\u001b[0;34m=\u001b[0m\u001b[0mnp\u001b[0m\u001b[0;34m.\u001b[0m\u001b[0mzeros\u001b[0m\u001b[0;34m(\u001b[0m\u001b[0;36m10\u001b[0m\u001b[0;34m)\u001b[0m\u001b[0;34m\u001b[0m\u001b[0;34m\u001b[0m\u001b[0m\n\u001b[1;32m      2\u001b[0m \u001b[0mx\u001b[0m\u001b[0;34m.\u001b[0m\u001b[0mflags\u001b[0m\u001b[0;34m.\u001b[0m\u001b[0mwriteable\u001b[0m \u001b[0;34m=\u001b[0m \u001b[0;32mFalse\u001b[0m\u001b[0;34m\u001b[0m\u001b[0;34m\u001b[0m\u001b[0m\n\u001b[0;32m----> 3\u001b[0;31m \u001b[0mx\u001b[0m\u001b[0;34m[\u001b[0m\u001b[0;36m1\u001b[0m\u001b[0;34m]\u001b[0m\u001b[0;34m=\u001b[0m\u001b[0;36m1\u001b[0m\u001b[0;34m\u001b[0m\u001b[0;34m\u001b[0m\u001b[0m\n\u001b[0m",
            "\u001b[0;31mValueError\u001b[0m: assignment destination is read-only"
          ]
        }
      ],
      "source": [
        "x=np.zeros(10)\n",
        "x.flags.writeable = False\n",
        "x[1]=1                       #ValueError: assignment destination is read-only"
      ]
    },
    {
      "cell_type": "markdown",
      "metadata": {
        "id": "3o5AKWE6VUfa"
      },
      "source": [
        "#### 44. Consider a random 10x2 matrix representing cartesian coordinates, convert them to polar coordinates (★★☆) \n",
        "(**hint**: np.sqrt, np.arctan2)"
      ]
    },
    {
      "cell_type": "code",
      "execution_count": 49,
      "metadata": {
        "id": "evDMmLssVUfa",
        "colab": {
          "base_uri": "https://localhost:8080/"
        },
        "outputId": "f14a2561-8a59-4dd4-c88b-87db42994ac9"
      },
      "outputs": [
        {
          "output_type": "stream",
          "name": "stdout",
          "text": [
            "[0.58318614 0.67863905 0.34348411 0.34875244 0.9487378  0.99207253\n",
            " 0.7864573  1.07195081 1.2201184  0.6862481 ]\n",
            "[1.53946562 1.06395549 1.39518826 0.97874583 0.88037487 1.41584117\n",
            " 0.36458452 1.13337075 0.80014573 0.48223413]\n"
          ]
        }
      ],
      "source": [
        "x=np.random.random((10,2))\n",
        "y,z=x[:,0],x[:,1]\n",
        "R=np.sqrt(y**2+z**2)\n",
        "T=np.arctan2(y,z)\n",
        "print(R)\n",
        "print(T)"
      ]
    },
    {
      "cell_type": "markdown",
      "metadata": {
        "id": "etIQ52VyVUfa"
      },
      "source": [
        "#### 45. Create random vector of size 10 and replace the maximum value by 0 (★★☆) \n",
        "(**hint**: argmax)"
      ]
    },
    {
      "cell_type": "code",
      "execution_count": 52,
      "metadata": {
        "id": "6DhKzeX8VUfa",
        "colab": {
          "base_uri": "https://localhost:8080/"
        },
        "outputId": "811c819f-dc9f-4ed8-8a37-15ef692578ff"
      },
      "outputs": [
        {
          "output_type": "stream",
          "name": "stdout",
          "text": [
            "[0.51229667 0.         0.48620062 0.         0.70909198 0.00082899\n",
            " 0.7913001  0.25178203 0.7492099  0.14676187]\n"
          ]
        }
      ],
      "source": [
        "x=np.random.random(10)\n",
        "x[x==np.max(x)]=0\n",
        "x[x.argmax()]=0\n",
        "print(x)"
      ]
    },
    {
      "cell_type": "markdown",
      "metadata": {
        "id": "UpdW9rI_VUfb"
      },
      "source": [
        "#### 46. Create a structured array with `x` and `y` coordinates covering the \\[0,1\\]x\\[0,1\\] area (★★☆) \n",
        "(**hint**: np.meshgrid)"
      ]
    },
    {
      "cell_type": "code",
      "execution_count": 53,
      "metadata": {
        "id": "-OKfL996VUfb"
      },
      "outputs": [],
      "source": [
        "z = np.zeros((5, 5), [('x', float), ('y', float)])\n",
        "z['x'], z['y'] = np.meshgrid(np.linspace(0, 1, 5), np.linspace(0, 1, 5))"
      ]
    },
    {
      "cell_type": "markdown",
      "metadata": {
        "id": "Sd-2HcqeVUfb"
      },
      "source": [
        "####  47. Given two arrays, X and Y, construct the Cauchy matrix C (Cij =1/(xi - yj)) \n",
        "(**hint**: np.subtract.outer)"
      ]
    },
    {
      "cell_type": "code",
      "execution_count": 54,
      "metadata": {
        "id": "kTLXT_mVVUfb",
        "colab": {
          "base_uri": "https://localhost:8080/"
        },
        "outputId": "71b845f8-70fd-4fc0-8180-1de099b856fd"
      },
      "outputs": [
        {
          "output_type": "execute_result",
          "data": {
            "text/plain": [
              "array([[-1.36264152e+06, -3.94955294e+02,  1.02346980e+05,\n",
              "         2.49485440e+05,  5.35675306e+03],\n",
              "       [ 1.13690122e+06,  7.62968481e+06,  1.85608703e+06,\n",
              "        -1.62937036e+05, -1.07899130e+03],\n",
              "       [ 2.92101599e+07, -1.13337169e+06, -1.59528551e+05,\n",
              "        -8.60476982e+06,  2.09936592e+06],\n",
              "       [ 4.82590846e+04, -2.19134940e+04,  3.48098015e+06,\n",
              "        -3.30595781e+08,  7.28587180e+06],\n",
              "       [-1.61374660e+05, -2.25683793e+06,  3.16092317e+06,\n",
              "         1.36786176e+06, -2.48443800e+03]])"
            ]
          },
          "metadata": {},
          "execution_count": 54
        }
      ],
      "source": [
        "x = np.random.random((5, 5))\n",
        "y = np.random.random((5, 5))\n",
        "c = 1 / (x - y)\n",
        "c = 1 / np.subtract.outer(x, y)\n",
        "np.linalg.det(c)"
      ]
    },
    {
      "cell_type": "markdown",
      "metadata": {
        "id": "JPza787KVUfb"
      },
      "source": [
        "#### 48. Print the minimum and maximum representable value for each numpy scalar type (★★☆) \n",
        "(**hint**: np.iinfo, np.finfo, eps)"
      ]
    },
    {
      "cell_type": "code",
      "execution_count": 55,
      "metadata": {
        "id": "LWoJuk7KVUfc",
        "colab": {
          "base_uri": "https://localhost:8080/"
        },
        "outputId": "23bb4db2-686b-4f95-db6d-c14fc7244a8c"
      },
      "outputs": [
        {
          "output_type": "stream",
          "name": "stdout",
          "text": [
            "-128\n",
            "127\n",
            "-2147483648\n",
            "2147483647\n",
            "-9223372036854775808\n",
            "9223372036854775807\n",
            "-3.4028235e+38\n",
            "3.4028235e+38\n",
            "1.1920929e-07\n",
            "-1.7976931348623157e+308\n",
            "1.7976931348623157e+308\n",
            "2.220446049250313e-16\n"
          ]
        }
      ],
      "source": [
        "for dtype in [np.int8, np.int32, np.int64]:\n",
        "   print(np.iinfo(dtype).min)\n",
        "   print(np.iinfo(dtype).max)\n",
        "for dtype in [np.float32, np.float64]:\n",
        "   print(np.finfo(dtype).min)\n",
        "   print(np.finfo(dtype).max)\n",
        "   print(np.finfo(dtype).eps)"
      ]
    },
    {
      "cell_type": "markdown",
      "metadata": {
        "id": "tQx4u__wVUfc"
      },
      "source": [
        "#### 49. How to print all the values of an array? (★★☆) \n",
        "(**hint**: np.set\\_printoptions)"
      ]
    },
    {
      "cell_type": "code",
      "execution_count": 58,
      "metadata": {
        "id": "hj1I8JRgVUfc",
        "colab": {
          "base_uri": "https://localhost:8080/",
          "height": 363
        },
        "outputId": "7fea9f9d-e206-431c-b15f-0a49dca40049"
      },
      "outputs": [
        {
          "output_type": "error",
          "ename": "ValueError",
          "evalue": "ignored",
          "traceback": [
            "\u001b[0;31m---------------------------------------------------------------------------\u001b[0m",
            "\u001b[0;31mValueError\u001b[0m                                Traceback (most recent call last)",
            "\u001b[0;32m<ipython-input-58-bf920c005aaf>\u001b[0m in \u001b[0;36m<module>\u001b[0;34m\u001b[0m\n\u001b[0;32m----> 1\u001b[0;31m \u001b[0mnp\u001b[0m\u001b[0;34m.\u001b[0m\u001b[0mset_printoptions\u001b[0m\u001b[0;34m(\u001b[0m\u001b[0mthreshold\u001b[0m\u001b[0;34m=\u001b[0m\u001b[0mnp\u001b[0m\u001b[0;34m.\u001b[0m\u001b[0mnan\u001b[0m\u001b[0;34m)\u001b[0m\u001b[0;34m\u001b[0m\u001b[0;34m\u001b[0m\u001b[0m\n\u001b[0m\u001b[1;32m      2\u001b[0m \u001b[0mx\u001b[0m \u001b[0;34m=\u001b[0m \u001b[0mnp\u001b[0m\u001b[0;34m.\u001b[0m\u001b[0mzeros\u001b[0m\u001b[0;34m(\u001b[0m\u001b[0;34m(\u001b[0m\u001b[0;36m4\u001b[0m\u001b[0;34m,\u001b[0m\u001b[0;36m4\u001b[0m\u001b[0;34m)\u001b[0m\u001b[0;34m)\u001b[0m\u001b[0;34m\u001b[0m\u001b[0;34m\u001b[0m\u001b[0m\n\u001b[1;32m      3\u001b[0m \u001b[0mprint\u001b[0m\u001b[0;34m(\u001b[0m\u001b[0mx\u001b[0m\u001b[0;34m)\u001b[0m\u001b[0;34m\u001b[0m\u001b[0;34m\u001b[0m\u001b[0m\n",
            "\u001b[0;32m/usr/local/lib/python3.7/dist-packages/numpy/core/arrayprint.py\u001b[0m in \u001b[0;36mset_printoptions\u001b[0;34m(precision, threshold, edgeitems, linewidth, suppress, nanstr, infstr, formatter, sign, floatmode, legacy)\u001b[0m\n\u001b[1;32m    252\u001b[0m     opt = _make_options_dict(precision, threshold, edgeitems, linewidth,\n\u001b[1;32m    253\u001b[0m                              \u001b[0msuppress\u001b[0m\u001b[0;34m,\u001b[0m \u001b[0mnanstr\u001b[0m\u001b[0;34m,\u001b[0m \u001b[0minfstr\u001b[0m\u001b[0;34m,\u001b[0m \u001b[0msign\u001b[0m\u001b[0;34m,\u001b[0m \u001b[0mformatter\u001b[0m\u001b[0;34m,\u001b[0m\u001b[0;34m\u001b[0m\u001b[0;34m\u001b[0m\u001b[0m\n\u001b[0;32m--> 254\u001b[0;31m                              floatmode, legacy)\n\u001b[0m\u001b[1;32m    255\u001b[0m     \u001b[0;31m# formatter is always reset\u001b[0m\u001b[0;34m\u001b[0m\u001b[0;34m\u001b[0m\u001b[0;34m\u001b[0m\u001b[0m\n\u001b[1;32m    256\u001b[0m     \u001b[0mopt\u001b[0m\u001b[0;34m[\u001b[0m\u001b[0;34m'formatter'\u001b[0m\u001b[0;34m]\u001b[0m \u001b[0;34m=\u001b[0m \u001b[0mformatter\u001b[0m\u001b[0;34m\u001b[0m\u001b[0;34m\u001b[0m\u001b[0m\n",
            "\u001b[0;32m/usr/local/lib/python3.7/dist-packages/numpy/core/arrayprint.py\u001b[0m in \u001b[0;36m_make_options_dict\u001b[0;34m(precision, threshold, edgeitems, linewidth, suppress, nanstr, infstr, sign, formatter, floatmode, legacy)\u001b[0m\n\u001b[1;32m     86\u001b[0m             \u001b[0;32mraise\u001b[0m \u001b[0mTypeError\u001b[0m\u001b[0;34m(\u001b[0m\u001b[0;34m\"threshold must be numeric\"\u001b[0m\u001b[0;34m)\u001b[0m\u001b[0;34m\u001b[0m\u001b[0;34m\u001b[0m\u001b[0m\n\u001b[1;32m     87\u001b[0m         \u001b[0;32mif\u001b[0m \u001b[0mnp\u001b[0m\u001b[0;34m.\u001b[0m\u001b[0misnan\u001b[0m\u001b[0;34m(\u001b[0m\u001b[0mthreshold\u001b[0m\u001b[0;34m)\u001b[0m\u001b[0;34m:\u001b[0m\u001b[0;34m\u001b[0m\u001b[0;34m\u001b[0m\u001b[0m\n\u001b[0;32m---> 88\u001b[0;31m             raise ValueError(\"threshold must be non-NAN, try \"\n\u001b[0m\u001b[1;32m     89\u001b[0m                              \"sys.maxsize for untruncated representation\")\n\u001b[1;32m     90\u001b[0m \u001b[0;34m\u001b[0m\u001b[0m\n",
            "\u001b[0;31mValueError\u001b[0m: threshold must be non-NAN, try sys.maxsize for untruncated representation"
          ]
        }
      ],
      "source": [
        "np.set_printoptions(threshold=np.nan)\n",
        "x = np.zeros((4,4))\n",
        "print(x)"
      ]
    },
    {
      "cell_type": "markdown",
      "metadata": {
        "id": "9ZohGy07VUfc"
      },
      "source": [
        "#### 50. How to find the closest value (to a given scalar) in a vector? (★★☆) \n",
        "(**hint**: argmin)"
      ]
    },
    {
      "cell_type": "code",
      "execution_count": 59,
      "metadata": {
        "id": "MglL8h3uVUfd",
        "colab": {
          "base_uri": "https://localhost:8080/"
        },
        "outputId": "dcba8f82-8217-42ce-d132-7f70f828c25d"
      },
      "outputs": [
        {
          "output_type": "stream",
          "name": "stdout",
          "text": [
            "8\n"
          ]
        }
      ],
      "source": [
        "Z = np.arange(100)\n",
        "v = np.random.uniform(0,100)\n",
        "index = (np.abs(Z-v)).argmin()\n",
        "print(Z[index])"
      ]
    },
    {
      "cell_type": "markdown",
      "metadata": {
        "id": "IgBwVApzVUfd"
      },
      "source": [
        "#### 51. Create a structured array representing a position (x,y) and a color (r,g,b) (★★☆) \n",
        "(**hint**: dtype)"
      ]
    },
    {
      "cell_type": "code",
      "execution_count": 60,
      "metadata": {
        "id": "O8dFNzLtVUfd",
        "colab": {
          "base_uri": "https://localhost:8080/"
        },
        "outputId": "7d925a07-39e5-4e8c-9d4f-28b52d8179ab"
      },
      "outputs": [
        {
          "output_type": "stream",
          "name": "stdout",
          "text": [
            "[((0., 0.), (0., 0., 0.)) ((0., 0.), (0., 0., 0.))\n",
            " ((0., 0.), (0., 0., 0.)) ((0., 0.), (0., 0., 0.))\n",
            " ((0., 0.), (0., 0., 0.)) ((0., 0.), (0., 0., 0.))\n",
            " ((0., 0.), (0., 0., 0.)) ((0., 0.), (0., 0., 0.))\n",
            " ((0., 0.), (0., 0., 0.)) ((0., 0.), (0., 0., 0.))]\n"
          ]
        },
        {
          "output_type": "stream",
          "name": "stderr",
          "text": [
            "/usr/local/lib/python3.7/dist-packages/ipykernel_launcher.py:5: FutureWarning: Passing (type, 1) or '1type' as a synonym of type is deprecated; in a future version of numpy, it will be understood as (type, (1,)) / '(1,)type'.\n",
            "  \"\"\"\n"
          ]
        }
      ],
      "source": [
        "Z = np.zeros(10, [ ('position', [ ('x', float, 1),\n",
        "                                   ('y', float, 1)]),\n",
        "                    ('color',    [ ('r', float, 1),\n",
        "                                   ('g', float, 1),\n",
        "                                   ('b', float, 1)])])\n",
        "print(Z)"
      ]
    },
    {
      "cell_type": "markdown",
      "metadata": {
        "id": "sjKFDR4HVUfd"
      },
      "source": [
        "#### 52. Consider a random vector with shape (100,2) representing coordinates, find point by point distances (★★☆) \n",
        "(**hint**: np.atleast\\_2d, T, np.sqrt)"
      ]
    },
    {
      "cell_type": "code",
      "execution_count": 61,
      "metadata": {
        "id": "a2Xxo1qbVUfd",
        "colab": {
          "base_uri": "https://localhost:8080/"
        },
        "outputId": "0cb2ab48-9687-4e93-bee1-8436f8ae5367"
      },
      "outputs": [
        {
          "output_type": "stream",
          "name": "stdout",
          "text": [
            "[[0.         0.22304391 0.84594077 0.44748452 0.4076081  0.28516648\n",
            "  0.7188914  0.6111675  0.50462015 0.34051522]\n",
            " [0.22304391 0.         1.02901196 0.44051485 0.62744494 0.50773255\n",
            "  0.79036357 0.72485319 0.51578975 0.38361427]\n",
            " [0.84594077 1.02901196 0.         0.78997488 0.51622321 0.67051323\n",
            "  0.5560016  0.430402   0.74471532 0.72584116]\n",
            " [0.44748452 0.44051485 0.78997488 0.         0.62688315 0.61171026\n",
            "  0.37728401 0.37995756 0.07833119 0.12416353]\n",
            " [0.4076081  0.62744494 0.51622321 0.62688315 0.         0.15896107\n",
            "  0.67701542 0.51027606 0.63592123 0.50744846]\n",
            " [0.28516648 0.50773255 0.67051323 0.61171026 0.15896107 0.\n",
            "  0.74785811 0.59410922 0.63996781 0.48755154]\n",
            " [0.7188914  0.79036357 0.5560016  0.37728401 0.67701542 0.74785811\n",
            "  0.         0.17154657 0.30126696 0.40706969]\n",
            " [0.6111675  0.72485319 0.430402   0.37995756 0.51027606 0.59410922\n",
            "  0.17154657 0.         0.32249471 0.35423341]\n",
            " [0.50462015 0.51578975 0.74471532 0.07833119 0.63592123 0.63996781\n",
            "  0.30126696 0.32249471 0.         0.1653493 ]\n",
            " [0.34051522 0.38361427 0.72584116 0.12416353 0.50744846 0.48755154\n",
            "  0.40706969 0.35423341 0.1653493  0.        ]]\n"
          ]
        }
      ],
      "source": [
        "Z = np.random.random((10,2))\n",
        "X,Y = np.atleast_2d(Z[:,0]), np.atleast_2d(Z[:,1])\n",
        "D = np.sqrt( (X-X.T)**2 + (Y-Y.T)**2)\n",
        "print(D)"
      ]
    },
    {
      "cell_type": "markdown",
      "metadata": {
        "id": "hUTsvlacVUfe"
      },
      "source": [
        "#### 53. How to convert a float (32 bits) array into an integer (32 bits) in place? \n",
        "(**hint**: astype(copy=False))"
      ]
    },
    {
      "cell_type": "code",
      "execution_count": 62,
      "metadata": {
        "id": "gqO9VDmxVUfe"
      },
      "outputs": [],
      "source": [
        "Z = np.arange(10, dtype=np.int32)\n",
        "Z = Z.astype(np.float32, copy=False)"
      ]
    },
    {
      "cell_type": "markdown",
      "metadata": {
        "id": "31R6J2-IVUfe"
      },
      "source": [
        "#### 54. How to read the following file? (★★☆) \n",
        "(**hint**: np.genfromtxt)"
      ]
    },
    {
      "cell_type": "markdown",
      "metadata": {
        "id": "6ibuMdnoVUfe"
      },
      "source": [
        "```\n",
        "1, 2, 3, 4, 5\n",
        "6,  ,  , 7, 8\n",
        " ,  , 9,10,11\n",
        "```"
      ]
    },
    {
      "cell_type": "code",
      "execution_count": 64,
      "metadata": {
        "id": "YNMsz1YBVUff"
      },
      "outputs": [],
      "source": []
    },
    {
      "cell_type": "markdown",
      "metadata": {
        "id": "SZMy2sKEVUff"
      },
      "source": [
        "#### 55. What is the equivalent of enumerate for numpy arrays? (★★☆) \n",
        "(**hint**: np.ndenumerate, np.ndindex)"
      ]
    },
    {
      "cell_type": "code",
      "execution_count": 65,
      "metadata": {
        "id": "vmT2MuJBVUfg",
        "colab": {
          "base_uri": "https://localhost:8080/"
        },
        "outputId": "398eb890-d960-4549-d440-7f0d48d1ca7b"
      },
      "outputs": [
        {
          "output_type": "stream",
          "name": "stdout",
          "text": [
            "(0, 0) 0\n",
            "(0, 1) 1\n",
            "(0, 2) 2\n",
            "(1, 0) 3\n",
            "(1, 1) 4\n",
            "(1, 2) 5\n",
            "(2, 0) 6\n",
            "(2, 1) 7\n",
            "(2, 2) 8\n",
            "(0, 0) 0\n",
            "(0, 1) 1\n",
            "(0, 2) 2\n",
            "(1, 0) 3\n",
            "(1, 1) 4\n",
            "(1, 2) 5\n",
            "(2, 0) 6\n",
            "(2, 1) 7\n",
            "(2, 2) 8\n"
          ]
        }
      ],
      "source": [
        "Z = np.arange(9).reshape(3,3)\n",
        "for index, value in np.ndenumerate(Z):\n",
        "    print(index, value)\n",
        "for index in np.ndindex(Z.shape):\n",
        "    print(index, Z[index])"
      ]
    },
    {
      "cell_type": "markdown",
      "metadata": {
        "id": "ov-7b4svVUfg"
      },
      "source": [
        "#### 56. Generate a generic 2D Gaussian-like array (★★☆) \n",
        "(**hint**: np.meshgrid, np.exp)"
      ]
    },
    {
      "cell_type": "code",
      "execution_count": 66,
      "metadata": {
        "id": "0bQQw9hKVUfg",
        "colab": {
          "base_uri": "https://localhost:8080/"
        },
        "outputId": "d68bf419-7aed-4406-89b9-0316189d3ce2"
      },
      "outputs": [
        {
          "output_type": "stream",
          "name": "stdout",
          "text": [
            "[[0.36787944 0.44822088 0.51979489 0.57375342 0.60279818 0.60279818\n",
            "  0.57375342 0.51979489 0.44822088 0.36787944]\n",
            " [0.44822088 0.54610814 0.63331324 0.69905581 0.73444367 0.73444367\n",
            "  0.69905581 0.63331324 0.54610814 0.44822088]\n",
            " [0.51979489 0.63331324 0.73444367 0.81068432 0.85172308 0.85172308\n",
            "  0.81068432 0.73444367 0.63331324 0.51979489]\n",
            " [0.57375342 0.69905581 0.81068432 0.89483932 0.9401382  0.9401382\n",
            "  0.89483932 0.81068432 0.69905581 0.57375342]\n",
            " [0.60279818 0.73444367 0.85172308 0.9401382  0.98773022 0.98773022\n",
            "  0.9401382  0.85172308 0.73444367 0.60279818]\n",
            " [0.60279818 0.73444367 0.85172308 0.9401382  0.98773022 0.98773022\n",
            "  0.9401382  0.85172308 0.73444367 0.60279818]\n",
            " [0.57375342 0.69905581 0.81068432 0.89483932 0.9401382  0.9401382\n",
            "  0.89483932 0.81068432 0.69905581 0.57375342]\n",
            " [0.51979489 0.63331324 0.73444367 0.81068432 0.85172308 0.85172308\n",
            "  0.81068432 0.73444367 0.63331324 0.51979489]\n",
            " [0.44822088 0.54610814 0.63331324 0.69905581 0.73444367 0.73444367\n",
            "  0.69905581 0.63331324 0.54610814 0.44822088]\n",
            " [0.36787944 0.44822088 0.51979489 0.57375342 0.60279818 0.60279818\n",
            "  0.57375342 0.51979489 0.44822088 0.36787944]]\n"
          ]
        }
      ],
      "source": [
        "X, Y = np.meshgrid(np.linspace(-1,1,10), np.linspace(-1,1,10))\n",
        "D = np.sqrt(X*X+Y*Y)\n",
        "sigma, mu = 1.0, 0.0\n",
        "G = np.exp(-( (D-mu)**2 / ( 2.0 * sigma**2 ) ) )\n",
        "print(G)"
      ]
    },
    {
      "cell_type": "markdown",
      "metadata": {
        "id": "hfcmgrL6VUfh"
      },
      "source": [
        "#### 57. How to randomly place p elements in a 2D array? (★★☆) \n",
        "(**hint**: np.put, np.random.choice)"
      ]
    },
    {
      "cell_type": "code",
      "execution_count": 67,
      "metadata": {
        "id": "f1TrgZicVUfh",
        "colab": {
          "base_uri": "https://localhost:8080/"
        },
        "outputId": "c572b0ff-0dd0-4b77-b7df-8d4774a38739"
      },
      "outputs": [
        {
          "output_type": "stream",
          "name": "stdout",
          "text": [
            "[[0. 0. 0. 0. 0. 0. 0. 0. 0. 0.]\n",
            " [0. 1. 0. 0. 0. 0. 0. 0. 0. 0.]\n",
            " [0. 0. 0. 0. 0. 0. 0. 0. 0. 0.]\n",
            " [0. 0. 0. 1. 0. 0. 0. 0. 0. 0.]\n",
            " [0. 0. 0. 0. 0. 0. 0. 1. 0. 0.]\n",
            " [0. 0. 0. 0. 0. 0. 0. 0. 0. 0.]\n",
            " [0. 0. 0. 0. 0. 0. 0. 0. 0. 0.]\n",
            " [0. 0. 0. 0. 0. 0. 0. 0. 0. 0.]\n",
            " [0. 0. 0. 0. 0. 0. 0. 0. 0. 0.]\n",
            " [0. 0. 0. 0. 0. 0. 0. 0. 0. 0.]]\n"
          ]
        }
      ],
      "source": [
        "n = 10\n",
        "p = 3\n",
        "Z = np.zeros((n,n))\n",
        "np.put(Z, np.random.choice(range(n*n), p, replace=False),1)\n",
        "print (Z)"
      ]
    },
    {
      "cell_type": "markdown",
      "metadata": {
        "id": "rvDYqCfeVUfh"
      },
      "source": [
        "#### 58. Subtract the mean of each row of a matrix (★★☆) \n",
        "(**hint**: mean(axis=,keepdims=))"
      ]
    },
    {
      "cell_type": "code",
      "execution_count": 69,
      "metadata": {
        "id": "P3VjwzjxVUfi",
        "colab": {
          "base_uri": "https://localhost:8080/"
        },
        "outputId": "b5c4fbe1-3895-47f3-e3bc-fc88c394ddce"
      },
      "outputs": [
        {
          "output_type": "stream",
          "name": "stdout",
          "text": [
            "[[ 0.04935869  0.10738532 -0.07614949 -0.03079548  0.4879148  -0.20266138\n",
            "   0.20098847  0.1327903  -0.33999685 -0.32883439]\n",
            " [-0.34837698 -0.38589777 -0.11080831 -0.22344615 -0.45361131  0.26863568\n",
            "   0.41425989  0.14644926  0.32281635  0.36997934]\n",
            " [-0.09733164  0.37655643  0.06981254  0.01417164 -0.1713824  -0.53138816\n",
            "  -0.09441107  0.35721864  0.19217388 -0.11541984]\n",
            " [ 0.30712063 -0.06777752 -0.29192118  0.12109166  0.49313175 -0.47333831\n",
            "  -0.21423256  0.4505301  -0.05576731 -0.26883725]\n",
            " [-0.3648781   0.01098859 -0.18987528  0.2021627  -0.26341682  0.41841818\n",
            "  -0.54909626  0.14255388  0.4194212   0.17372191]]\n"
          ]
        }
      ],
      "source": [
        "X = np.random.rand(5, 10)\n",
        "Y = X - X.mean(axis=1, keepdims=True)\n",
        "print(Y)"
      ]
    },
    {
      "cell_type": "markdown",
      "metadata": {
        "id": "-NcI7ogFVUfi"
      },
      "source": [
        "#### 59. How to sort an array by the nth column? (★★☆) \n",
        "(**hint**: argsort)"
      ]
    },
    {
      "cell_type": "code",
      "execution_count": 70,
      "metadata": {
        "id": "GYYS-BKFVUfi",
        "colab": {
          "base_uri": "https://localhost:8080/"
        },
        "outputId": "3e7a4804-cee7-4f81-fa3f-16f1651c841f"
      },
      "outputs": [
        {
          "output_type": "stream",
          "name": "stdout",
          "text": [
            "[[7 5 4]\n",
            " [3 3 2]\n",
            " [3 8 1]]\n",
            "[[3 3 2]\n",
            " [7 5 4]\n",
            " [3 8 1]]\n"
          ]
        }
      ],
      "source": [
        "Z = np.random.randint(0,10,(3,3))\n",
        "print(Z)\n",
        "print(Z[Z[:,1].argsort()])"
      ]
    },
    {
      "cell_type": "markdown",
      "metadata": {
        "id": "2-lpDK1-VUfj"
      },
      "source": [
        "#### 60. How to tell if a given 2D array has null columns? (★★☆) \n",
        "(**hint**: any, ~)"
      ]
    },
    {
      "cell_type": "code",
      "execution_count": 71,
      "metadata": {
        "id": "rdHosMF7VUfj",
        "colab": {
          "base_uri": "https://localhost:8080/"
        },
        "outputId": "637a10f0-22fe-48a4-8624-b7394239346f"
      },
      "outputs": [
        {
          "output_type": "stream",
          "name": "stdout",
          "text": [
            "False\n"
          ]
        }
      ],
      "source": [
        "Z = np.random.randint(0,3,(3,10))\n",
        "print((~Z.any(axis=0)).any())"
      ]
    },
    {
      "cell_type": "markdown",
      "metadata": {
        "id": "qFxJLs7ZVUfj"
      },
      "source": [
        "#### 61. Find the nearest value from a given value in an array (★★☆) \n",
        "(**hint**: np.abs, argmin, flat)"
      ]
    },
    {
      "cell_type": "code",
      "execution_count": 72,
      "metadata": {
        "id": "4wqbRzt6VUfk",
        "colab": {
          "base_uri": "https://localhost:8080/"
        },
        "outputId": "244040c7-f41a-421d-8f9f-5926498f3b1a"
      },
      "outputs": [
        {
          "output_type": "stream",
          "name": "stdout",
          "text": [
            "0.5220097672030605\n"
          ]
        }
      ],
      "source": [
        "Z = np.random.uniform(0,1,10)\n",
        "z = 0.5\n",
        "m = Z.flat[np.abs(Z - z).argmin()]\n",
        "print(m)"
      ]
    },
    {
      "cell_type": "markdown",
      "metadata": {
        "id": "Op87Lo4oVUfk"
      },
      "source": [
        "#### 62. Considering two arrays with shape (1,3) and (3,1), how to compute their sum using an iterator? (★★☆) \n",
        "(**hint**: np.nditer)"
      ]
    },
    {
      "cell_type": "code",
      "execution_count": 73,
      "metadata": {
        "id": "IzBsVk5iVUfk",
        "colab": {
          "base_uri": "https://localhost:8080/"
        },
        "outputId": "9c169746-46ba-488f-a45d-df3534b7802e"
      },
      "outputs": [
        {
          "output_type": "stream",
          "name": "stdout",
          "text": [
            "[[0 1 2]\n",
            " [1 2 3]\n",
            " [2 3 4]]\n"
          ]
        }
      ],
      "source": [
        "A = np.arange(3).reshape(3,1)\n",
        "B = np.arange(3).reshape(1,3)\n",
        "it = np.nditer([A,B,None])\n",
        "for x,y,z in it: z[...] = x + y\n",
        "print(it.operands[2])"
      ]
    },
    {
      "cell_type": "markdown",
      "metadata": {
        "id": "0UkOwqdbVUfl"
      },
      "source": [
        "#### 63. Create an array class that has a name attribute (★★☆) \n",
        "(**hint**: class method)"
      ]
    },
    {
      "cell_type": "code",
      "execution_count": 74,
      "metadata": {
        "id": "irN_baVqVUfl",
        "colab": {
          "base_uri": "https://localhost:8080/"
        },
        "outputId": "b57cb23e-b180-4293-b5d4-c1f0f4f22ac5"
      },
      "outputs": [
        {
          "output_type": "stream",
          "name": "stdout",
          "text": [
            "range_10\n"
          ]
        }
      ],
      "source": [
        "class NamedArray(np.ndarray):\n",
        "    def __new__(cls, array, name=\"no name\"):\n",
        "        obj = np.asarray(array).view(cls)\n",
        "        obj.name = name\n",
        "        return obj\n",
        "    def __array_finalize__(self, obj):\n",
        "        if obj is None: return\n",
        "        self.name = getattr(obj, 'name', \"no name\")\n",
        "\n",
        "Z = NamedArray(np.arange(10), \"range_10\")\n",
        "print (Z.name)"
      ]
    },
    {
      "cell_type": "markdown",
      "metadata": {
        "id": "c02e9p8CVUfm"
      },
      "source": [
        "#### 64. Consider a given vector, how to add 1 to each element indexed by a second vector (be careful with repeated indices)? (★★★) \n",
        "(**hint**: np.bincount | np.add.at)"
      ]
    },
    {
      "cell_type": "code",
      "execution_count": 76,
      "metadata": {
        "id": "_2m4UZ1XVUfm",
        "colab": {
          "base_uri": "https://localhost:8080/"
        },
        "outputId": "dcd772d6-a5c4-44f5-848b-3696470b7a29"
      },
      "outputs": [
        {
          "output_type": "stream",
          "name": "stdout",
          "text": [
            "[4. 6. 1. 1. 2. 6. 2. 4. 3. 1.]\n",
            "[ 7. 11.  1.  1.  3. 11.  3.  7.  5.  1.]\n"
          ]
        }
      ],
      "source": [
        "Z = np.ones(10)\n",
        "I = np.random.randint(0,len(Z),20)\n",
        "Z += np.bincount(I, minlength=len(Z))\n",
        "print(Z)\n",
        "\n",
        "#2nd Method\n",
        "#np.add.at(Z, I, 1)\n",
        "#print(Z)"
      ]
    },
    {
      "cell_type": "markdown",
      "metadata": {
        "id": "i9hQqMr0VUfn"
      },
      "source": [
        "#### 65. How to accumulate elements of a vector (X) to an array (F) based on an index list (I)? (★★★) \n",
        "(**hint**: np.bincount)"
      ]
    },
    {
      "cell_type": "code",
      "execution_count": 77,
      "metadata": {
        "id": "IYMKKjyAVUfo",
        "colab": {
          "base_uri": "https://localhost:8080/"
        },
        "outputId": "b4f12c52-1299-449c-a079-af9cc9987126"
      },
      "outputs": [
        {
          "output_type": "stream",
          "name": "stdout",
          "text": [
            "[0. 7. 0. 6. 5. 0. 0. 0. 0. 3.]\n"
          ]
        }
      ],
      "source": [
        "X = [1,2,3,4,5,6]\n",
        "I = [1,3,9,3,4,1]\n",
        "F = np.bincount(I,X)\n",
        "print(F)"
      ]
    },
    {
      "cell_type": "markdown",
      "metadata": {
        "id": "sdcL6mEoVUfp"
      },
      "source": [
        "#### 66. Considering a (w,h,3) image of (dtype=ubyte), compute the number of unique colors (★★★) \n",
        "(**hint**: np.unique)"
      ]
    },
    {
      "cell_type": "code",
      "execution_count": 78,
      "metadata": {
        "id": "kQUrinwCVUfp",
        "colab": {
          "base_uri": "https://localhost:8080/"
        },
        "outputId": "67ea22b4-b8e7-4017-bbed-5d499049701d"
      },
      "outputs": [
        {
          "output_type": "stream",
          "name": "stdout",
          "text": [
            "64\n"
          ]
        }
      ],
      "source": [
        "w, h = 256, 256\n",
        "I = np.random.randint(0, 4, (h, w, 3)).astype(np.ubyte)\n",
        "colors = np.unique(I.reshape(-1, 3), axis=0)\n",
        "n = len(colors)\n",
        "print(n)"
      ]
    },
    {
      "cell_type": "markdown",
      "metadata": {
        "id": "nlaQFQYQVUfq"
      },
      "source": [
        "#### 67. Considering a four dimensions array, how to get sum over the last two axis at once? (★★★) \n",
        "(**hint**: sum(axis=(-2,-1)))"
      ]
    },
    {
      "cell_type": "code",
      "execution_count": 79,
      "metadata": {
        "id": "RVdirekKVUfq",
        "colab": {
          "base_uri": "https://localhost:8080/"
        },
        "outputId": "c41c5d37-afcb-46f3-ba3c-84b4d745c636"
      },
      "outputs": [
        {
          "output_type": "stream",
          "name": "stdout",
          "text": [
            "[[56 41 54 38]\n",
            " [62 64 44 46]\n",
            " [55 47 48 63]]\n"
          ]
        }
      ],
      "source": [
        "A = np.random.randint(0,10,(3,4,3,4))\n",
        "sum = A.sum(axis=(-2,-1))\n",
        "print(sum)\n"
      ]
    },
    {
      "cell_type": "markdown",
      "metadata": {
        "id": "B_trR2VJVUfq"
      },
      "source": [
        "#### 68. Considering a one-dimensional vector D, how to compute means of subsets of D using a vector S of same size describing subset  indices? (★★★) \n",
        "(**hint**: np.bincount)"
      ]
    },
    {
      "cell_type": "code",
      "execution_count": 81,
      "metadata": {
        "id": "lJAU7zsHVUfr",
        "colab": {
          "base_uri": "https://localhost:8080/"
        },
        "outputId": "b111c9b6-70c7-4059-fa7b-2c3b12d8a755"
      },
      "outputs": [
        {
          "output_type": "stream",
          "name": "stdout",
          "text": [
            "[0.48671682 0.580384   0.49278734 0.42008114 0.52061491 0.71104836\n",
            " 0.51739148 0.36290589 0.52434039 0.61384153]\n"
          ]
        }
      ],
      "source": [
        "D = np.random.uniform(0,1,100)\n",
        "S = np.random.randint(0,10,100)\n",
        "D_sums = np.bincount(S, weights=D)\n",
        "D_counts = np.bincount(S)\n",
        "D_means = D_sums / D_counts\n",
        "print(D_means)"
      ]
    },
    {
      "cell_type": "markdown",
      "metadata": {
        "id": "28qruLQpVUfr"
      },
      "source": [
        "#### 69. How to get the diagonal of a dot product? (★★★) \n",
        "(**hint**: np.diag)"
      ]
    },
    {
      "cell_type": "code",
      "execution_count": 84,
      "metadata": {
        "id": "JRyRaBZrVUfs",
        "colab": {
          "base_uri": "https://localhost:8080/"
        },
        "outputId": "8e6665ca-470b-4d31-fd0f-34a9ba8f5a3b"
      },
      "outputs": [
        {
          "output_type": "stream",
          "name": "stdout",
          "text": [
            "[1.58101601 1.73372493 1.48143401 0.83900274 0.99223743]\n"
          ]
        }
      ],
      "source": [
        "A = np.random.uniform(0,1,(5,5))\n",
        "B = np.random.uniform(0,1,(5,5))\n",
        "C=np.diag(np.dot(A, B))\n",
        "print(C)"
      ]
    },
    {
      "cell_type": "markdown",
      "metadata": {
        "id": "Ugvd8alwVUfs"
      },
      "source": [
        "#### 70. Consider the vector \\[1, 2, 3, 4, 5\\], how to build a new vector with 3 consecutive zeros interleaved between each value? (★★★) \n",
        "(**hint**: array\\[::4\\])"
      ]
    },
    {
      "cell_type": "code",
      "execution_count": 85,
      "metadata": {
        "id": "PvvzUfgpVUfs",
        "colab": {
          "base_uri": "https://localhost:8080/"
        },
        "outputId": "c61c9ffe-4aa0-458d-e0c3-c87092d14df6"
      },
      "outputs": [
        {
          "output_type": "stream",
          "name": "stdout",
          "text": [
            "[1. 0. 0. 0. 2. 0. 0. 0. 3. 0. 0. 0. 4. 0. 0. 0. 5.]\n"
          ]
        }
      ],
      "source": [
        "Z = np.array([1,2,3,4,5])\n",
        "nz = 3\n",
        "Z0 = np.zeros(len(Z) + (len(Z)-1)*(nz))\n",
        "Z0[::4] = Z\n",
        "print(Z0)"
      ]
    },
    {
      "cell_type": "markdown",
      "metadata": {
        "id": "ust789BlVUft"
      },
      "source": [
        "#### 71. Consider an array of dimension (5,5,3), how to mulitply it by an array with dimensions (5,5)? (★★★) \n",
        "(**hint**: array\\[:, :, None\\])"
      ]
    },
    {
      "cell_type": "code",
      "execution_count": 86,
      "metadata": {
        "collapsed": true,
        "id": "SwUlOWUfVUft",
        "colab": {
          "base_uri": "https://localhost:8080/"
        },
        "outputId": "f82f3ce5-a430-4b2f-e048-6dd9f6b0c55a"
      },
      "outputs": [
        {
          "output_type": "stream",
          "name": "stdout",
          "text": [
            "[[[2. 2. 2.]\n",
            "  [2. 2. 2.]\n",
            "  [2. 2. 2.]\n",
            "  [2. 2. 2.]\n",
            "  [2. 2. 2.]]\n",
            "\n",
            " [[2. 2. 2.]\n",
            "  [2. 2. 2.]\n",
            "  [2. 2. 2.]\n",
            "  [2. 2. 2.]\n",
            "  [2. 2. 2.]]\n",
            "\n",
            " [[2. 2. 2.]\n",
            "  [2. 2. 2.]\n",
            "  [2. 2. 2.]\n",
            "  [2. 2. 2.]\n",
            "  [2. 2. 2.]]\n",
            "\n",
            " [[2. 2. 2.]\n",
            "  [2. 2. 2.]\n",
            "  [2. 2. 2.]\n",
            "  [2. 2. 2.]\n",
            "  [2. 2. 2.]]\n",
            "\n",
            " [[2. 2. 2.]\n",
            "  [2. 2. 2.]\n",
            "  [2. 2. 2.]\n",
            "  [2. 2. 2.]\n",
            "  [2. 2. 2.]]]\n"
          ]
        }
      ],
      "source": [
        "A = np.ones((5,5,3))\n",
        "B = 2*np.ones((5,5))\n",
        "print(A * B[:,:,None])"
      ]
    },
    {
      "cell_type": "markdown",
      "metadata": {
        "id": "JIrGxv9oVUft"
      },
      "source": [
        "#### 72. How to swap two rows of an array? (★★★) \n",
        "(**hint**: array\\[\\[\\]\\] = array\\[\\[\\]\\])"
      ]
    },
    {
      "cell_type": "code",
      "execution_count": 87,
      "metadata": {
        "id": "HjXSe1anVUfu",
        "colab": {
          "base_uri": "https://localhost:8080/"
        },
        "outputId": "a951958c-19a2-471e-823c-305ee4e62556"
      },
      "outputs": [
        {
          "output_type": "stream",
          "name": "stdout",
          "text": [
            "[[ 5  6  7  8  9]\n",
            " [ 0  1  2  3  4]\n",
            " [10 11 12 13 14]\n",
            " [15 16 17 18 19]\n",
            " [20 21 22 23 24]]\n"
          ]
        }
      ],
      "source": [
        "A = np.arange(25).reshape(5,5)\n",
        "A[[0,1]] = A[[1,0]]\n",
        "print(A)"
      ]
    },
    {
      "cell_type": "markdown",
      "metadata": {
        "id": "-u4pDshaVUfu"
      },
      "source": [
        "#### 73. Consider a set of 10 triplets describing 10 triangles (with shared vertices), find the set of unique line segments composing all the  triangles (★★★) \n",
        "(**hint**: repeat, np.roll, np.sort, view, np.unique)"
      ]
    },
    {
      "cell_type": "code",
      "execution_count": 88,
      "metadata": {
        "id": "-j-FKQHIVUfv",
        "colab": {
          "base_uri": "https://localhost:8080/"
        },
        "outputId": "8cf31837-b570-46b0-f03c-6cd49ecca418"
      },
      "outputs": [
        {
          "output_type": "stream",
          "name": "stdout",
          "text": [
            "[( 1,  7) ( 1, 81) ( 5, 16) ( 5, 38) ( 6, 14) ( 6, 47) ( 6, 82) ( 6, 91)\n",
            " ( 7, 81) (10, 10) (10, 38) (11, 16) (11, 53) (14, 82) (15, 36) (15, 76)\n",
            " (16, 38) (16, 53) (18, 41) (18, 62) (36, 76) (39, 91) (39, 97) (41, 62)\n",
            " (47, 91) (52, 70) (52, 97) (70, 97) (91, 97)]\n"
          ]
        }
      ],
      "source": [
        "faces = np.random.randint(0,100,(10,3))\n",
        "F = np.roll(faces.repeat(2,axis=1),-1,axis=1)\n",
        "F = F.reshape(len(F)*3,2)\n",
        "F = np.sort(F,axis=1)\n",
        "G = F.view( dtype=[('p0',F.dtype),('p1',F.dtype)] )\n",
        "G = np.unique(G)\n",
        "print(G)"
      ]
    },
    {
      "cell_type": "markdown",
      "metadata": {
        "id": "tryiC1L1VUfv"
      },
      "source": [
        "#### 74. Given an array C that is a bincount, how to produce an array A such that np.bincount(A) == C? (★★★) \n",
        "(**hint**: np.repeat)"
      ]
    },
    {
      "cell_type": "code",
      "execution_count": 89,
      "metadata": {
        "id": "r5M_8I3tVUfw",
        "colab": {
          "base_uri": "https://localhost:8080/"
        },
        "outputId": "ee866c48-bfcc-4680-a066-0e433bcc6d78"
      },
      "outputs": [
        {
          "output_type": "stream",
          "name": "stdout",
          "text": [
            "[1 1 2 3 4 4 6]\n"
          ]
        }
      ],
      "source": [
        "C = np.bincount([1,1,2,3,4,4,6])\n",
        "A = np.repeat(np.arange(len(C)), C)\n",
        "print(A)"
      ]
    },
    {
      "cell_type": "markdown",
      "metadata": {
        "id": "Oxeb4K-4VUfw"
      },
      "source": [
        "#### 75. How to compute averages using a sliding window over an array? (★★★) \n",
        "(**hint**: np.cumsum)"
      ]
    },
    {
      "cell_type": "code",
      "execution_count": 90,
      "metadata": {
        "id": "-eTq5CdjVUfx",
        "colab": {
          "base_uri": "https://localhost:8080/"
        },
        "outputId": "3e036545-a8b6-4f64-dfbd-22486ea48fd8"
      },
      "outputs": [
        {
          "output_type": "stream",
          "name": "stdout",
          "text": [
            "[ 1.  2.  3.  4.  5.  6.  7.  8.  9. 10. 11. 12. 13. 14. 15. 16. 17. 18.]\n"
          ]
        }
      ],
      "source": [
        "def moving_average(a, n=3) :\n",
        "    ret = np.cumsum(a, dtype=float)\n",
        "    ret[n:] = ret[n:] - ret[:-n]\n",
        "    return ret[n - 1:] / n\n",
        "Z = np.arange(20)\n",
        "print(moving_average(Z, n=3))"
      ]
    },
    {
      "cell_type": "markdown",
      "metadata": {
        "id": "C7tyoBGAVUfx"
      },
      "source": [
        "#### 76. Consider a one-dimensional array Z, build a two-dimensional array whose first row is (Z\\[0\\],Z\\[1\\],Z\\[2\\]) and each subsequent row is  shifted by 1 (last row should be (Z\\[-3\\],Z\\[-2\\],Z\\[-1\\]) (★★★) \n",
        "(**hint**: from numpy.lib import stride_tricks)"
      ]
    },
    {
      "cell_type": "code",
      "execution_count": 92,
      "metadata": {
        "id": "1Q63itBqVUfy",
        "colab": {
          "base_uri": "https://localhost:8080/"
        },
        "outputId": "182dd2d2-27fc-49d4-fbd2-6ab4261d430f"
      },
      "outputs": [
        {
          "output_type": "stream",
          "name": "stdout",
          "text": [
            "[[0 1 2]\n",
            " [1 2 3]\n",
            " [2 3 4]\n",
            " [3 4 5]\n",
            " [4 5 6]\n",
            " [5 6 7]\n",
            " [6 7 8]\n",
            " [7 8 9]]\n"
          ]
        }
      ],
      "source": [
        "from numpy.lib import stride_tricks\n",
        "\n",
        "def rolling(a, window):\n",
        "    shape = (a.size - window + 1, window)\n",
        "    strides = (a.strides[0], a.strides[0])\n",
        "    return stride_tricks.as_strided(a, shape=shape, strides=strides)\n",
        "Z = rolling(np.arange(10), 3)\n",
        "print(Z)"
      ]
    },
    {
      "cell_type": "markdown",
      "metadata": {
        "id": "zNiHhabvVUfy"
      },
      "source": [
        "#### 77. How to negate a boolean, or to change the sign of a float inplace? (★★★) \n",
        "(**hint**: np.logical_not, np.negative)"
      ]
    },
    {
      "cell_type": "code",
      "execution_count": 93,
      "metadata": {
        "id": "OBjWgdQZVUfy",
        "colab": {
          "base_uri": "https://localhost:8080/"
        },
        "outputId": "c8fd8465-a79d-41f9-93aa-7a596f8f1051"
      },
      "outputs": [
        {
          "output_type": "execute_result",
          "data": {
            "text/plain": [
              "array([ 0.29601911,  0.5712884 ,  0.1627665 ,  0.40852357, -0.49563162,\n",
              "       -0.31430999,  0.85300546,  0.45275733, -0.17993906,  0.20144094,\n",
              "        0.7547813 ,  0.74793541,  0.75675984,  0.48044293,  0.53108896,\n",
              "        0.72566989, -0.53379227, -0.02371752,  0.70076297, -0.98135753,\n",
              "       -0.92773136, -0.21711624,  0.80794419,  0.55060266,  0.08074697,\n",
              "       -0.31574043, -0.1598575 ,  0.70730832, -0.49610561,  0.12224514,\n",
              "       -0.80756453, -0.2810884 , -0.50776515, -0.0257081 , -0.68231118,\n",
              "       -0.92581608,  0.64664423, -0.42938592, -0.19567153,  0.10907448,\n",
              "        0.17209862,  0.17659671,  0.87423442,  0.12727526,  0.05578519,\n",
              "       -0.53029781,  0.12649228, -0.45541527,  0.1561718 , -0.02438276,\n",
              "        0.68055951, -0.38113754,  0.07480217,  0.52273777,  0.71924975,\n",
              "        0.32902676, -0.9753411 ,  0.71058641, -0.55718947,  0.86410658,\n",
              "       -0.15503221, -0.32675803, -0.16309794,  0.80489723, -0.03357738,\n",
              "       -0.64725003,  0.80205466, -0.13192339, -0.29713473,  0.77208977,\n",
              "       -0.34290791,  0.22595051,  0.960934  , -0.0022356 ,  0.3500089 ,\n",
              "       -0.74094089, -0.39176865, -0.7283962 ,  0.52744854, -0.40089419,\n",
              "       -0.45812032,  0.44563323,  0.97805006,  0.57412226,  0.65792012,\n",
              "        0.67054756, -0.36265342,  0.83726245,  0.19345359,  0.37069682,\n",
              "       -0.48983174, -0.98125926,  0.78955046, -0.13003887, -0.43182711,\n",
              "       -0.52267201,  0.49515687, -0.59682834,  0.33837732,  0.48614345])"
            ]
          },
          "metadata": {},
          "execution_count": 93
        }
      ],
      "source": [
        "Z = np.random.randint(0,2,100)\n",
        "np.logical_not(Z, out=Z)\n",
        "\n",
        "Z = np.random.uniform(-1.0,1.0,100)\n",
        "np.negative(Z, out=Z)"
      ]
    },
    {
      "cell_type": "markdown",
      "metadata": {
        "id": "uArkpICHVUfz"
      },
      "source": [
        "#### 78. Consider 2 sets of points P0,P1 describing lines (2d) and a point p, how to compute distance from p to each line i  (P0\\[i\\],P1\\[i\\])? (★★★)"
      ]
    },
    {
      "cell_type": "code",
      "execution_count": 94,
      "metadata": {
        "id": "q840WtpaVUfz",
        "colab": {
          "base_uri": "https://localhost:8080/"
        },
        "outputId": "f7dd5059-7ed7-4ef6-e69e-7b13618a4efa"
      },
      "outputs": [
        {
          "output_type": "stream",
          "name": "stdout",
          "text": [
            "[4.5479806  2.65310062 1.95399323 0.23301909 1.42141644 5.59949164\n",
            " 4.75160269 6.78571477 2.2779918  0.87813346]\n"
          ]
        }
      ],
      "source": [
        "def distance(P0, P1, p):\n",
        "    T = P1 - P0\n",
        "    L = (T**2).sum(axis=1)\n",
        "    U = -((P0[:,0]-p[...,0])*T[:,0] + (P0[:,1]-p[...,1])*T[:,1]) / L\n",
        "    U = U.reshape(len(U),1)\n",
        "    D = P0 + U*T - p\n",
        "    return np.sqrt((D**2).sum(axis=1))\n",
        "\n",
        "P0 = np.random.uniform(-10,10,(10,2))\n",
        "P1 = np.random.uniform(-10,10,(10,2))\n",
        "p  = np.random.uniform(-10,10,( 1,2))\n",
        "print(distance(P0, P1, p))"
      ]
    },
    {
      "cell_type": "markdown",
      "metadata": {
        "id": "XdR321KBVUf0"
      },
      "source": [
        "#### 79. Consider 2 sets of points P0,P1 describing lines (2d) and a set of points P, how to compute distance from each point j (P\\[j\\]) to each line i (P0\\[i\\],P1\\[i\\])? (★★★)"
      ]
    },
    {
      "cell_type": "code",
      "execution_count": 95,
      "metadata": {
        "id": "kt-sBBP3VUf0",
        "colab": {
          "base_uri": "https://localhost:8080/"
        },
        "outputId": "955223e6-dcf4-43d1-cbae-19c29d6c0f4c"
      },
      "outputs": [
        {
          "output_type": "stream",
          "name": "stdout",
          "text": [
            "[[1.44484678e+01 2.46303992e-02 7.20806089e+00 1.01864185e+01\n",
            "  7.96893757e+00 1.19225918e+00 1.13418306e+01 7.08102508e+00\n",
            "  4.79077207e+00 1.66293615e+00]\n",
            " [1.32233265e+01 2.11581156e+00 6.75828078e+00 9.71465602e+00\n",
            "  9.82107155e+00 3.41360700e-02 9.75192054e+00 8.15381128e+00\n",
            "  6.83053221e+00 1.69689905e+00]\n",
            " [6.91946082e-01 5.98863535e+00 5.75330203e+00 2.82296754e+00\n",
            "  8.26407428e+00 1.25803496e+01 1.91220762e+00 5.59578329e-01\n",
            "  7.94751570e+00 1.34772815e+01]\n",
            " [2.01150813e+00 8.61751058e+00 3.10273646e+00 2.03160912e-01\n",
            "  1.18827641e+01 1.11225189e+01 1.45883002e+00 4.48803616e+00\n",
            "  1.11574346e+01 1.03102180e+01]\n",
            " [1.19420627e+01 9.18489190e-01 4.77959263e+00 7.75088277e+00\n",
            "  7.84923597e+00 1.32358052e+00 8.96588535e+00 5.73572585e+00\n",
            "  5.19883549e+00 3.91222204e+00]\n",
            " [1.91042560e+01 3.08816279e+00 1.11432767e+01 1.41492327e+01\n",
            "  6.69908653e+00 5.80963018e+00 1.60899682e+01 8.22858081e+00\n",
            "  2.59550898e+00 1.68309075e+00]\n",
            " [1.31033807e+01 1.04384058e+01 1.11101976e+00 4.20605415e+00\n",
            "  4.51852149e+00 6.23636120e-01 1.28531574e+01 4.89202437e+00\n",
            "  6.95604898e+00 9.79801842e+00]\n",
            " [2.63478970e+00 8.65881606e+00 2.37774531e+00 5.20544704e-01\n",
            "  1.22263407e+01 1.04851265e+01 9.38374954e-01 5.10678074e+00\n",
            "  1.13582148e+01 9.57587533e+00]\n",
            " [1.01814295e+01 5.23011591e+00 8.36702852e-02 3.12513664e+00\n",
            "  1.63849546e-02 3.38134137e+00 9.03486334e+00 2.22694955e+00\n",
            "  1.97798507e+00 9.81344771e+00]\n",
            " [1.33371477e+01 6.08739950e+00 3.28620049e+00 6.33292288e+00\n",
            "  5.42711005e-01 1.99662684e-01 1.19420780e+01 1.92960148e-01\n",
            "  2.12997730e+00 6.77199186e+00]]\n"
          ]
        }
      ],
      "source": [
        "P0 = np.random.uniform(-10, 10, (10,2))\n",
        "P1 = np.random.uniform(-10,10,(10,2))\n",
        "p = np.random.uniform(-10, 10, (10,2))\n",
        "print(np.array([distance(P0,P1,p_i) for p_i in p]))"
      ]
    },
    {
      "cell_type": "markdown",
      "metadata": {
        "id": "e-vLezhPVUf0"
      },
      "source": [
        "#### 80. Consider an arbitrary array, write a function that extract a subpart with a fixed shape and centered on a given element (pad with a `fill` value when necessary) (★★★) \n",
        "(**hint**: minimum, maximum)"
      ]
    },
    {
      "cell_type": "code",
      "execution_count": 96,
      "metadata": {
        "id": "Frojm5NbVUf1",
        "colab": {
          "base_uri": "https://localhost:8080/"
        },
        "outputId": "b7fd21c9-9052-4931-c024-79aa87747408"
      },
      "outputs": [
        {
          "output_type": "stream",
          "name": "stdout",
          "text": [
            "[[4 6 8 1 5 6 8 9 1 3]\n",
            " [5 2 7 7 3 3 5 1 3 0]\n",
            " [9 5 8 1 3 1 3 0 4 6]\n",
            " [4 7 6 2 7 9 2 1 0 2]\n",
            " [0 8 7 0 1 1 8 5 9 4]\n",
            " [1 5 9 7 4 5 5 9 1 1]\n",
            " [6 4 8 6 8 8 5 9 3 6]\n",
            " [3 4 0 6 2 8 5 4 0 3]\n",
            " [1 0 5 1 7 0 7 0 8 2]\n",
            " [0 5 6 1 0 1 3 8 0 0]]\n",
            "[[0 0 0 0 0]\n",
            " [0 4 6 8 1]\n",
            " [0 5 2 7 7]\n",
            " [0 9 5 8 1]\n",
            " [0 4 7 6 2]]\n"
          ]
        },
        {
          "output_type": "stream",
          "name": "stderr",
          "text": [
            "/usr/local/lib/python3.7/dist-packages/ipykernel_launcher.py:23: FutureWarning: Using a non-tuple sequence for multidimensional indexing is deprecated; use `arr[tuple(seq)]` instead of `arr[seq]`. In the future this will be interpreted as an array index, `arr[np.array(seq)]`, which will result either in an error or a different result.\n"
          ]
        }
      ],
      "source": [
        "Z = np.random.randint(0,10,(10,10))\n",
        "shape = (5,5)\n",
        "fill  = 0\n",
        "position = (1,1)\n",
        "\n",
        "R = np.ones(shape, dtype=Z.dtype)*fill\n",
        "P  = np.array(list(position)).astype(int)\n",
        "Rs = np.array(list(R.shape)).astype(int)\n",
        "Zs = np.array(list(Z.shape)).astype(int)\n",
        "\n",
        "R_start = np.zeros((len(shape),)).astype(int)\n",
        "R_stop  = np.array(list(shape)).astype(int)\n",
        "Z_start = (P-Rs//2)\n",
        "Z_stop  = (P+Rs//2)+Rs%2\n",
        "\n",
        "R_start = (R_start - np.minimum(Z_start,0)).tolist()\n",
        "Z_start = (np.maximum(Z_start,0)).tolist()\n",
        "R_stop = np.maximum(R_start, (R_stop - np.maximum(Z_stop-Zs,0))).tolist()\n",
        "Z_stop = (np.minimum(Z_stop,Zs)).tolist()\n",
        "\n",
        "r = [slice(start,stop) for start,stop in zip(R_start,R_stop)]\n",
        "z = [slice(start,stop) for start,stop in zip(Z_start,Z_stop)]\n",
        "R[r] = Z[z]\n",
        "print(Z)\n",
        "print(R)"
      ]
    },
    {
      "cell_type": "markdown",
      "metadata": {
        "id": "mp7JN2QdVUf1"
      },
      "source": [
        "#### 81. Consider an array Z = \\[1,2,3,4,5,6,7,8,9,10,11,12,13,14\\], how to generate an array R = \\[\\[1,2,3,4\\], \\[2,3,4,5\\], \\[3,4,5,6\\], ..., \\[11,12,13,14\\]\\]? (★★★) \n",
        "(**hint**: stride\\_tricks.as\\_strided)"
      ]
    },
    {
      "cell_type": "code",
      "execution_count": 97,
      "metadata": {
        "id": "plmpXW84VUf1",
        "colab": {
          "base_uri": "https://localhost:8080/"
        },
        "outputId": "3248d15e-5d8b-4deb-897e-8c3bcb46ec87"
      },
      "outputs": [
        {
          "output_type": "stream",
          "name": "stdout",
          "text": [
            "[[ 1  2  3  4]\n",
            " [ 2  3  4  5]\n",
            " [ 3  4  5  6]\n",
            " [ 4  5  6  7]\n",
            " [ 5  6  7  8]\n",
            " [ 6  7  8  9]\n",
            " [ 7  8  9 10]\n",
            " [ 8  9 10 11]\n",
            " [ 9 10 11 12]\n",
            " [10 11 12 13]\n",
            " [11 12 13 14]]\n"
          ]
        }
      ],
      "source": [
        "Z = np.arange(1,15,dtype=np.uint32)\n",
        "R = stride_tricks.as_strided(Z,(11,4),(4,4))\n",
        "print(R)\n"
      ]
    },
    {
      "cell_type": "markdown",
      "metadata": {
        "id": "_Aa6gOGvVUf2"
      },
      "source": [
        "#### 82. Compute a matrix rank (★★★) \n",
        "(**hint**: np.linalg.svd) (suggestion: np.linalg.svd)"
      ]
    },
    {
      "cell_type": "code",
      "execution_count": 98,
      "metadata": {
        "id": "ycD-dD7RVUf3",
        "colab": {
          "base_uri": "https://localhost:8080/"
        },
        "outputId": "12ed22a0-2a5e-46a5-f3c5-08915ee08942"
      },
      "outputs": [
        {
          "output_type": "stream",
          "name": "stdout",
          "text": [
            "10\n"
          ]
        }
      ],
      "source": [
        "Z = np.random.uniform(0,1,(10,10))\n",
        "U, S, V = np.linalg.svd(Z) # Singular Value Decomposition\n",
        "rank = np.sum(S > 1e-10)\n",
        "print(rank)"
      ]
    },
    {
      "cell_type": "markdown",
      "metadata": {
        "id": "Z8qz5DrhVUf3"
      },
      "source": [
        "#### 83. How to find the most frequent value in an array? \n",
        "(**hint**: np.bincount, argmax)"
      ]
    },
    {
      "cell_type": "code",
      "execution_count": 99,
      "metadata": {
        "id": "z1K2sqUSVUf3",
        "colab": {
          "base_uri": "https://localhost:8080/"
        },
        "outputId": "3dc01e2c-c802-44b2-bf47-0d2754ad1e8e"
      },
      "outputs": [
        {
          "output_type": "stream",
          "name": "stdout",
          "text": [
            "1\n"
          ]
        }
      ],
      "source": [
        "Z = np.random.randint(0,10,50)\n",
        "print(np.bincount(Z).argmax())"
      ]
    },
    {
      "cell_type": "markdown",
      "metadata": {
        "id": "ddfNPCHiVUf3"
      },
      "source": [
        "#### 84. Extract all the contiguous 3x3 blocks from a random 10x10 matrix (★★★) \n",
        "(**hint**: stride\\_tricks.as\\_strided)"
      ]
    },
    {
      "cell_type": "code",
      "execution_count": 100,
      "metadata": {
        "id": "LqUjmuyfVUf4",
        "colab": {
          "base_uri": "https://localhost:8080/"
        },
        "outputId": "ca02dbdd-f3be-4460-bd72-d9f93812e12a"
      },
      "outputs": [
        {
          "output_type": "stream",
          "name": "stdout",
          "text": [
            "[[[[3 2 2]\n",
            "   [1 1 1]\n",
            "   [3 3 2]]\n",
            "\n",
            "  [[2 2 3]\n",
            "   [1 1 1]\n",
            "   [3 2 1]]\n",
            "\n",
            "  [[2 3 3]\n",
            "   [1 1 1]\n",
            "   [2 1 2]]\n",
            "\n",
            "  [[3 3 3]\n",
            "   [1 1 0]\n",
            "   [1 2 2]]\n",
            "\n",
            "  [[3 3 2]\n",
            "   [1 0 0]\n",
            "   [2 2 2]]\n",
            "\n",
            "  [[3 2 0]\n",
            "   [0 0 0]\n",
            "   [2 2 1]]\n",
            "\n",
            "  [[2 0 4]\n",
            "   [0 0 1]\n",
            "   [2 1 1]]\n",
            "\n",
            "  [[0 4 2]\n",
            "   [0 1 3]\n",
            "   [1 1 0]]]\n",
            "\n",
            "\n",
            " [[[1 1 1]\n",
            "   [3 3 2]\n",
            "   [1 4 1]]\n",
            "\n",
            "  [[1 1 1]\n",
            "   [3 2 1]\n",
            "   [4 1 0]]\n",
            "\n",
            "  [[1 1 1]\n",
            "   [2 1 2]\n",
            "   [1 0 1]]\n",
            "\n",
            "  [[1 1 0]\n",
            "   [1 2 2]\n",
            "   [0 1 3]]\n",
            "\n",
            "  [[1 0 0]\n",
            "   [2 2 2]\n",
            "   [1 3 2]]\n",
            "\n",
            "  [[0 0 0]\n",
            "   [2 2 1]\n",
            "   [3 2 3]]\n",
            "\n",
            "  [[0 0 1]\n",
            "   [2 1 1]\n",
            "   [2 3 3]]\n",
            "\n",
            "  [[0 1 3]\n",
            "   [1 1 0]\n",
            "   [3 3 4]]]\n",
            "\n",
            "\n",
            " [[[3 3 2]\n",
            "   [1 4 1]\n",
            "   [4 2 2]]\n",
            "\n",
            "  [[3 2 1]\n",
            "   [4 1 0]\n",
            "   [2 2 1]]\n",
            "\n",
            "  [[2 1 2]\n",
            "   [1 0 1]\n",
            "   [2 1 3]]\n",
            "\n",
            "  [[1 2 2]\n",
            "   [0 1 3]\n",
            "   [1 3 0]]\n",
            "\n",
            "  [[2 2 2]\n",
            "   [1 3 2]\n",
            "   [3 0 2]]\n",
            "\n",
            "  [[2 2 1]\n",
            "   [3 2 3]\n",
            "   [0 2 1]]\n",
            "\n",
            "  [[2 1 1]\n",
            "   [2 3 3]\n",
            "   [2 1 1]]\n",
            "\n",
            "  [[1 1 0]\n",
            "   [3 3 4]\n",
            "   [1 1 4]]]\n",
            "\n",
            "\n",
            " [[[1 4 1]\n",
            "   [4 2 2]\n",
            "   [2 3 4]]\n",
            "\n",
            "  [[4 1 0]\n",
            "   [2 2 1]\n",
            "   [3 4 0]]\n",
            "\n",
            "  [[1 0 1]\n",
            "   [2 1 3]\n",
            "   [4 0 2]]\n",
            "\n",
            "  [[0 1 3]\n",
            "   [1 3 0]\n",
            "   [0 2 3]]\n",
            "\n",
            "  [[1 3 2]\n",
            "   [3 0 2]\n",
            "   [2 3 4]]\n",
            "\n",
            "  [[3 2 3]\n",
            "   [0 2 1]\n",
            "   [3 4 2]]\n",
            "\n",
            "  [[2 3 3]\n",
            "   [2 1 1]\n",
            "   [4 2 1]]\n",
            "\n",
            "  [[3 3 4]\n",
            "   [1 1 4]\n",
            "   [2 1 2]]]\n",
            "\n",
            "\n",
            " [[[4 2 2]\n",
            "   [2 3 4]\n",
            "   [1 0 1]]\n",
            "\n",
            "  [[2 2 1]\n",
            "   [3 4 0]\n",
            "   [0 1 3]]\n",
            "\n",
            "  [[2 1 3]\n",
            "   [4 0 2]\n",
            "   [1 3 2]]\n",
            "\n",
            "  [[1 3 0]\n",
            "   [0 2 3]\n",
            "   [3 2 0]]\n",
            "\n",
            "  [[3 0 2]\n",
            "   [2 3 4]\n",
            "   [2 0 3]]\n",
            "\n",
            "  [[0 2 1]\n",
            "   [3 4 2]\n",
            "   [0 3 3]]\n",
            "\n",
            "  [[2 1 1]\n",
            "   [4 2 1]\n",
            "   [3 3 0]]\n",
            "\n",
            "  [[1 1 4]\n",
            "   [2 1 2]\n",
            "   [3 0 4]]]\n",
            "\n",
            "\n",
            " [[[2 3 4]\n",
            "   [1 0 1]\n",
            "   [4 0 3]]\n",
            "\n",
            "  [[3 4 0]\n",
            "   [0 1 3]\n",
            "   [0 3 0]]\n",
            "\n",
            "  [[4 0 2]\n",
            "   [1 3 2]\n",
            "   [3 0 0]]\n",
            "\n",
            "  [[0 2 3]\n",
            "   [3 2 0]\n",
            "   [0 0 4]]\n",
            "\n",
            "  [[2 3 4]\n",
            "   [2 0 3]\n",
            "   [0 4 0]]\n",
            "\n",
            "  [[3 4 2]\n",
            "   [0 3 3]\n",
            "   [4 0 1]]\n",
            "\n",
            "  [[4 2 1]\n",
            "   [3 3 0]\n",
            "   [0 1 1]]\n",
            "\n",
            "  [[2 1 2]\n",
            "   [3 0 4]\n",
            "   [1 1 4]]]\n",
            "\n",
            "\n",
            " [[[1 0 1]\n",
            "   [4 0 3]\n",
            "   [4 2 1]]\n",
            "\n",
            "  [[0 1 3]\n",
            "   [0 3 0]\n",
            "   [2 1 4]]\n",
            "\n",
            "  [[1 3 2]\n",
            "   [3 0 0]\n",
            "   [1 4 1]]\n",
            "\n",
            "  [[3 2 0]\n",
            "   [0 0 4]\n",
            "   [4 1 3]]\n",
            "\n",
            "  [[2 0 3]\n",
            "   [0 4 0]\n",
            "   [1 3 4]]\n",
            "\n",
            "  [[0 3 3]\n",
            "   [4 0 1]\n",
            "   [3 4 0]]\n",
            "\n",
            "  [[3 3 0]\n",
            "   [0 1 1]\n",
            "   [4 0 2]]\n",
            "\n",
            "  [[3 0 4]\n",
            "   [1 1 4]\n",
            "   [0 2 1]]]\n",
            "\n",
            "\n",
            " [[[4 0 3]\n",
            "   [4 2 1]\n",
            "   [1 0 3]]\n",
            "\n",
            "  [[0 3 0]\n",
            "   [2 1 4]\n",
            "   [0 3 2]]\n",
            "\n",
            "  [[3 0 0]\n",
            "   [1 4 1]\n",
            "   [3 2 4]]\n",
            "\n",
            "  [[0 0 4]\n",
            "   [4 1 3]\n",
            "   [2 4 1]]\n",
            "\n",
            "  [[0 4 0]\n",
            "   [1 3 4]\n",
            "   [4 1 2]]\n",
            "\n",
            "  [[4 0 1]\n",
            "   [3 4 0]\n",
            "   [1 2 1]]\n",
            "\n",
            "  [[0 1 1]\n",
            "   [4 0 2]\n",
            "   [2 1 1]]\n",
            "\n",
            "  [[1 1 4]\n",
            "   [0 2 1]\n",
            "   [1 1 4]]]]\n"
          ]
        }
      ],
      "source": [
        "Z = np.random.randint(0,5,(10,10))\n",
        "n = 3\n",
        "i = 1 + (Z.shape[0]-3)\n",
        "j = 1 + (Z.shape[1]-3)\n",
        "C = stride_tricks.as_strided(Z, shape=(i, j, n, n), strides=Z.strides + Z.strides)\n",
        "print(C)"
      ]
    },
    {
      "cell_type": "markdown",
      "metadata": {
        "id": "9hNvxgMBVUf4"
      },
      "source": [
        "#### 85. Create a 2D array subclass such that Z\\[i,j\\] == Z\\[j,i\\] (★★★) \n",
        "(**hint**: class method)"
      ]
    },
    {
      "cell_type": "code",
      "execution_count": 101,
      "metadata": {
        "id": "Ow7LdsKtVUf4",
        "colab": {
          "base_uri": "https://localhost:8080/"
        },
        "outputId": "90a3aee2-350f-4408-87f4-9c588fd18645"
      },
      "outputs": [
        {
          "output_type": "stream",
          "name": "stdout",
          "text": [
            "[[ 2  7 10  6 11]\n",
            " [ 7  5  9  7 16]\n",
            " [10  9  6 42 15]\n",
            " [ 6  7 42  4  7]\n",
            " [11 16 15  7  7]]\n"
          ]
        }
      ],
      "source": [
        "class Symetric(np.ndarray):\n",
        "    def __setitem__(self, index, value):\n",
        "        i,j = index\n",
        "        super(Symetric, self).__setitem__((i,j), value)\n",
        "        super(Symetric, self).__setitem__((j,i), value)\n",
        "\n",
        "def symetric(Z):\n",
        "    return np.asarray(Z + Z.T - np.diag(Z.diagonal())).view(Symetric)\n",
        "\n",
        "S = symetric(np.random.randint(0,10,(5,5)))\n",
        "S[2,3] = 42\n",
        "print(S)"
      ]
    },
    {
      "cell_type": "markdown",
      "metadata": {
        "id": "WW9AoHWYVUf4"
      },
      "source": [
        "#### 86. Consider a set of p matrices wich shape (n,n) and a set of p vectors with shape (n,1). How to compute the sum of of the p matrix products at once? (result has shape (n,1)) (★★★) \n",
        "(**hint**: np.tensordot)"
      ]
    },
    {
      "cell_type": "code",
      "execution_count": 102,
      "metadata": {
        "id": "n1moFxA8VUf4",
        "colab": {
          "base_uri": "https://localhost:8080/"
        },
        "outputId": "dce8f7ee-1dd7-49b2-a3ce-ba4f6c109bdd"
      },
      "outputs": [
        {
          "output_type": "stream",
          "name": "stdout",
          "text": [
            "[[200.]\n",
            " [200.]\n",
            " [200.]\n",
            " [200.]\n",
            " [200.]\n",
            " [200.]\n",
            " [200.]\n",
            " [200.]\n",
            " [200.]\n",
            " [200.]\n",
            " [200.]\n",
            " [200.]\n",
            " [200.]\n",
            " [200.]\n",
            " [200.]\n",
            " [200.]\n",
            " [200.]\n",
            " [200.]\n",
            " [200.]\n",
            " [200.]]\n"
          ]
        }
      ],
      "source": [
        "p, n = 10, 20\n",
        "M = np.ones((p,n,n))\n",
        "V = np.ones((p,n,1))\n",
        "S = np.tensordot(M, V, axes=[[0, 2], [0, 1]])\n",
        "print(S)"
      ]
    },
    {
      "cell_type": "markdown",
      "metadata": {
        "id": "-f1cNnzoVUf5"
      },
      "source": [
        "#### 87. Consider a 16x16 array, how to get the block-sum (block size is 4x4)? (★★★) \n",
        "(**hint**: np.add.reduceat)"
      ]
    },
    {
      "cell_type": "code",
      "execution_count": 103,
      "metadata": {
        "id": "3njNlYaoVUf5",
        "colab": {
          "base_uri": "https://localhost:8080/"
        },
        "outputId": "be7c00ae-d32c-4d0b-8665-6a295b252a57"
      },
      "outputs": [
        {
          "output_type": "stream",
          "name": "stdout",
          "text": [
            "[[16. 16. 16. 16.]\n",
            " [16. 16. 16. 16.]\n",
            " [16. 16. 16. 16.]\n",
            " [16. 16. 16. 16.]]\n"
          ]
        }
      ],
      "source": [
        "Z = np.ones((16,16))\n",
        "k = 4\n",
        "S = np.add.reduceat(np.add.reduceat(Z, np.arange(0, Z.shape[0], k), axis=0),\n",
        "                                       np.arange(0, Z.shape[1], k), axis=1)\n",
        "print(S)\n"
      ]
    },
    {
      "cell_type": "markdown",
      "metadata": {
        "id": "6zSibBBNVUf5"
      },
      "source": [
        "#### 88. How to implement the Game of Life using numpy arrays? (★★★)"
      ]
    },
    {
      "cell_type": "code",
      "execution_count": 106,
      "metadata": {
        "id": "WgKqzaBwVUf5",
        "colab": {
          "base_uri": "https://localhost:8080/"
        },
        "outputId": "8ed67e45-7f28-434d-f3fb-86eec590e4f9"
      },
      "outputs": [
        {
          "output_type": "stream",
          "name": "stdout",
          "text": [
            "[[0 0 0 ... 0 0 0]\n",
            " [0 0 0 ... 0 0 0]\n",
            " [0 0 0 ... 1 0 0]\n",
            " ...\n",
            " [0 0 1 ... 0 0 0]\n",
            " [0 0 1 ... 0 0 0]\n",
            " [0 0 0 ... 0 0 0]]\n"
          ]
        }
      ],
      "source": [
        "def iterate(Z):\n",
        "    N = (Z[0:-2,0:-2] + Z[0:-2,1:-1] + Z[0:-2,2:] +\n",
        "         Z[1:-1,0:-2]                + Z[1:-1,2:] +\n",
        "         Z[2:  ,0:-2] + Z[2:  ,1:-1] + Z[2:  ,2:])\n",
        "    birth = (N==3) & (Z[1:-1,1:-1]==0)\n",
        "    survive = ((N==2) | (N==3)) & (Z[1:-1,1:-1]==1)\n",
        "    Z[...] = 0\n",
        "    Z[1:-1,1:-1][birth | survive] = 1\n",
        "    return Z\n",
        "\n",
        "Z = np.random.randint(0,2,(50,50))\n",
        "for i in range(100): Z = iterate(Z)\n",
        "print(Z)"
      ]
    },
    {
      "cell_type": "markdown",
      "metadata": {
        "id": "miR-ZRc_VUf5"
      },
      "source": [
        "#### 89. How to get the n largest values of an array (★★★) \n",
        "(**hint**: np.argsort | np.argpartition)"
      ]
    },
    {
      "cell_type": "code",
      "execution_count": 109,
      "metadata": {
        "id": "VsFDiw6bVUf5",
        "colab": {
          "base_uri": "https://localhost:8080/"
        },
        "outputId": "a264dd1c-c89c-4043-956b-b70899fe7fcd"
      },
      "outputs": [
        {
          "output_type": "stream",
          "name": "stdout",
          "text": [
            "[9995 9996 9997 9998 9999]\n",
            "[9998 9999 9997 9996 9995]\n"
          ]
        }
      ],
      "source": [
        "Z = np.arange(10000)\n",
        "np.random.shuffle(Z)\n",
        "n = 5\n",
        "print (Z[np.argsort(Z)[-n:]])\n",
        "\n",
        "print (Z[np.argpartition(-Z,n)[:n]])"
      ]
    },
    {
      "cell_type": "markdown",
      "metadata": {
        "id": "P5YvsV_tVUf6"
      },
      "source": [
        "#### 90. Given an arbitrary number of vectors, build the cartesian product (every combinations of every item) (★★★) \n",
        "(**hint**: np.indices)"
      ]
    },
    {
      "cell_type": "code",
      "execution_count": 110,
      "metadata": {
        "scrolled": true,
        "id": "OnESkb69VUf6",
        "colab": {
          "base_uri": "https://localhost:8080/"
        },
        "outputId": "8616a135-ae41-4f99-9460-f29e04db49a1"
      },
      "outputs": [
        {
          "output_type": "stream",
          "name": "stdout",
          "text": [
            "[[1 4 6]\n",
            " [1 4 7]\n",
            " [1 5 6]\n",
            " [1 5 7]\n",
            " [2 4 6]\n",
            " [2 4 7]\n",
            " [2 5 6]\n",
            " [2 5 7]\n",
            " [3 4 6]\n",
            " [3 4 7]\n",
            " [3 5 6]\n",
            " [3 5 7]]\n"
          ]
        }
      ],
      "source": [
        "def cartesian(arrays):\n",
        "    arrays = [np.asarray(a) for a in arrays]\n",
        "    shape = (len(x) for x in arrays)\n",
        "\n",
        "    ix = np.indices(shape, dtype=int)\n",
        "    ix = ix.reshape(len(arrays), -1).T\n",
        "\n",
        "    for n, arr in enumerate(arrays):\n",
        "        ix[:, n] = arrays[n][ix[:, n]]\n",
        "\n",
        "    return ix\n",
        "\n",
        "print (cartesian(([1, 2, 3], [4, 5], [6, 7])))"
      ]
    },
    {
      "cell_type": "markdown",
      "metadata": {
        "id": "Qy8cVTWlVUf6"
      },
      "source": [
        "#### 91. How to create a record array from a regular array? (★★★) \n",
        "(**hint**: np.core.records.fromarrays)"
      ]
    },
    {
      "cell_type": "code",
      "execution_count": 111,
      "metadata": {
        "id": "Wuw-tusMVUf6",
        "colab": {
          "base_uri": "https://localhost:8080/"
        },
        "outputId": "5017e436-0d9f-4add-b06d-e6fbc2b315fa"
      },
      "outputs": [
        {
          "output_type": "stream",
          "name": "stdout",
          "text": [
            "[(b'Hello', 2.5, 3) (b'World', 3.6, 2)]\n"
          ]
        }
      ],
      "source": [
        "Z = np.array([(\"Hello\", 2.5, 3),\n",
        "              (\"World\", 3.6, 2)])\n",
        "R = np.core.records.fromarrays(Z.T,\n",
        "                               names='col1, col2, col3',\n",
        "                               formats = 'S8, f8, i8')\n",
        "print(R)"
      ]
    },
    {
      "cell_type": "markdown",
      "metadata": {
        "id": "cGgyAGiWVUf6"
      },
      "source": [
        "#### 92. Consider a large vector Z, compute Z to the power of 3 using 3 different methods (★★★) \n",
        "(**hint**: np.power, \\*, np.einsum)"
      ]
    },
    {
      "cell_type": "code",
      "execution_count": 112,
      "metadata": {
        "id": "ciFxFByjVUf7",
        "colab": {
          "base_uri": "https://localhost:8080/"
        },
        "outputId": "58812358-1b60-4113-e721-12cc082efb8f"
      },
      "outputs": [
        {
          "output_type": "stream",
          "name": "stdout",
          "text": [
            "4.19 s ± 630 ms per loop (mean ± std. dev. of 7 runs, 1 loop each)\n",
            "201 ms ± 11.2 ms per loop (mean ± std. dev. of 7 runs, 10 loops each)\n",
            "168 ms ± 1.64 ms per loop (mean ± std. dev. of 7 runs, 10 loops each)\n"
          ]
        }
      ],
      "source": [
        "x = np.random.rand(int(5e7))\n",
        "\n",
        "%timeit np.power(x,3)\n",
        "%timeit x*x*x\n",
        "%timeit np.einsum('i,i,i->i',x,x,x)"
      ]
    },
    {
      "cell_type": "markdown",
      "metadata": {
        "id": "bknYJRMRVUf7"
      },
      "source": [
        "#### 93. Consider two arrays A and B of shape (8,3) and (2,2). How to find rows of A that contain elements of each row of B regardless of the order of the elements in B? (★★★) \n",
        "(**hint**: np.where)"
      ]
    },
    {
      "cell_type": "code",
      "execution_count": 113,
      "metadata": {
        "id": "DOLJqg_TVUf7",
        "colab": {
          "base_uri": "https://localhost:8080/"
        },
        "outputId": "79d20a12-e703-418b-c7ee-088c2fa9420e"
      },
      "outputs": [
        {
          "output_type": "stream",
          "name": "stdout",
          "text": [
            "[0 1 2 3 4 5 6 7]\n"
          ]
        }
      ],
      "source": [
        "A = np.random.randint(0,5,(8,3))\n",
        "B = np.random.randint(0,5,(2,2))\n",
        "\n",
        "C = (A[..., np.newaxis, np.newaxis] == B)\n",
        "rows = np.where(C.any((3,1)).all(1))[0]\n",
        "print(rows)"
      ]
    },
    {
      "cell_type": "markdown",
      "metadata": {
        "id": "U5qe_FBiVUf7"
      },
      "source": [
        "#### 94. Considering a 10x3 matrix, extract rows with unequal values (e.g. \\[2,2,3\\]) (★★★)"
      ]
    },
    {
      "cell_type": "code",
      "execution_count": 114,
      "metadata": {
        "id": "NgOnT0o8VUf7",
        "colab": {
          "base_uri": "https://localhost:8080/"
        },
        "outputId": "082d44f6-8e84-411c-ab51-03b25ce9e609"
      },
      "outputs": [
        {
          "output_type": "stream",
          "name": "stdout",
          "text": [
            "[[3 0 4]\n",
            " [0 4 2]\n",
            " [2 3 1]\n",
            " [4 2 3]\n",
            " [0 3 0]\n",
            " [1 3 1]\n",
            " [3 1 2]\n",
            " [3 4 1]\n",
            " [4 2 1]\n",
            " [0 3 4]]\n",
            "[[3 0 4]\n",
            " [0 4 2]\n",
            " [2 3 1]\n",
            " [4 2 3]\n",
            " [0 3 0]\n",
            " [1 3 1]\n",
            " [3 1 2]\n",
            " [3 4 1]\n",
            " [4 2 1]\n",
            " [0 3 4]]\n",
            "[[3 0 4]\n",
            " [0 4 2]\n",
            " [2 3 1]\n",
            " [4 2 3]\n",
            " [0 3 0]\n",
            " [1 3 1]\n",
            " [3 1 2]\n",
            " [3 4 1]\n",
            " [4 2 1]\n",
            " [0 3 4]]\n"
          ]
        }
      ],
      "source": [
        "Z = np.random.randint(0,5,(10,3))\n",
        "print(Z)\n",
        "# solution for arrays of all dtypes (including string arrays and record arrays)\n",
        "E = np.all(Z[:,1:] == Z[:,:-1], axis=1)\n",
        "U = Z[~E]\n",
        "print(U)\n",
        "# soluiton for numerical arrays only, will work for any number of columns in Z\n",
        "U = Z[Z.max(axis=1) != Z.min(axis=1),:]\n",
        "print(U)"
      ]
    },
    {
      "cell_type": "markdown",
      "metadata": {
        "id": "qXIttkbAVUf7"
      },
      "source": [
        "#### 95. Convert a vector of ints into a matrix binary representation (★★★) \n",
        "(**hint**: np.unpackbits)"
      ]
    },
    {
      "cell_type": "code",
      "execution_count": 115,
      "metadata": {
        "id": "dtz_SAP_VUf8",
        "colab": {
          "base_uri": "https://localhost:8080/"
        },
        "outputId": "e8d191dd-d10a-4417-e2dd-93c8ef81e1e1"
      },
      "outputs": [
        {
          "output_type": "stream",
          "name": "stdout",
          "text": [
            "[[0 0 0 0 0 0 0 0]\n",
            " [0 0 0 0 0 0 0 1]\n",
            " [0 0 0 0 0 0 1 0]\n",
            " [0 0 0 0 0 0 1 1]\n",
            " [0 0 0 0 1 1 1 1]\n",
            " [0 0 0 1 0 0 0 0]\n",
            " [0 0 1 0 0 0 0 0]\n",
            " [0 1 0 0 0 0 0 0]\n",
            " [1 0 0 0 0 0 0 0]]\n"
          ]
        }
      ],
      "source": [
        "I = np.array([0, 1, 2, 3, 15, 16, 32, 64, 128])\n",
        "B = ((I.reshape(-1,1) & (2**np.arange(8))) != 0).astype(int)\n",
        "print(B[:,::-1])\n"
      ]
    },
    {
      "cell_type": "markdown",
      "metadata": {
        "id": "Ev7ieXA1VUf8"
      },
      "source": [
        "#### 96. Given a two dimensional array, how to extract unique rows? (★★★) \n",
        "(**hint**: np.ascontiguousarray)"
      ]
    },
    {
      "cell_type": "code",
      "execution_count": 116,
      "metadata": {
        "id": "bQfwLFN7VUf8",
        "colab": {
          "base_uri": "https://localhost:8080/"
        },
        "outputId": "74af27cb-b918-4123-dfc1-017ccf5c8c71"
      },
      "outputs": [
        {
          "output_type": "stream",
          "name": "stdout",
          "text": [
            "[[0 0 0]\n",
            " [0 0 1]\n",
            " [0 1 0]\n",
            " [1 0 1]\n",
            " [1 1 1]]\n"
          ]
        }
      ],
      "source": [
        "Z = np.random.randint(0,2,(6,3))\n",
        "T = np.ascontiguousarray(Z).view(np.dtype((np.void, Z.dtype.itemsize * Z.shape[1])))\n",
        "_, idx = np.unique(T, return_index=True)\n",
        "uZ = Z[idx]\n",
        "print(uZ)"
      ]
    },
    {
      "cell_type": "markdown",
      "metadata": {
        "id": "_QVulUKGVUf8"
      },
      "source": [
        "#### 97. Considering 2 vectors A & B, write the einsum equivalent of inner, outer, sum, and mul function (★★★) \n",
        "(**hint**: np.einsum)"
      ]
    },
    {
      "cell_type": "code",
      "execution_count": 117,
      "metadata": {
        "id": "IyXtZQj0VUf9",
        "colab": {
          "base_uri": "https://localhost:8080/"
        },
        "outputId": "8a93de6e-af95-4e39-bbf7-2d6db5ec1e90"
      },
      "outputs": [
        {
          "output_type": "execute_result",
          "data": {
            "text/plain": [
              "array([[0.40027882, 0.50697546, 0.4540533 , 0.50180806, 0.76100145,\n",
              "        0.68384512, 0.15685936, 0.62410629, 0.20558578, 0.11453794],\n",
              "       [0.01389774, 0.01760227, 0.0157648 , 0.01742286, 0.02642209,\n",
              "        0.02374321, 0.00544618, 0.02166907, 0.00713797, 0.00397678],\n",
              "       [0.00292754, 0.0037079 , 0.00332084, 0.0036701 , 0.00556578,\n",
              "        0.00500148, 0.00114723, 0.00456456, 0.0015036 , 0.0008377 ],\n",
              "       [0.20839852, 0.26394835, 0.23639531, 0.26125803, 0.39620276,\n",
              "        0.3560326 , 0.08166622, 0.32493058, 0.10703482, 0.05963228],\n",
              "       [0.23200103, 0.29384225, 0.26316864, 0.29084723, 0.44107535,\n",
              "        0.39635565, 0.09091546, 0.36173111, 0.11915723, 0.06638603],\n",
              "       [0.39639997, 0.50206268, 0.44965335, 0.49694535, 0.75362706,\n",
              "        0.67721841, 0.15533933, 0.61805847, 0.20359358, 0.11342803],\n",
              "       [0.41941762, 0.53121582, 0.47576325, 0.52580134, 0.79738771,\n",
              "        0.71654226, 0.16435938, 0.6539471 , 0.21541559, 0.12001442],\n",
              "       [0.43364498, 0.54923556, 0.49190195, 0.54363742, 0.82443646,\n",
              "        0.74084859, 0.16993473, 0.6761301 , 0.22272286, 0.12408551],\n",
              "       [0.4143485 , 0.52479549, 0.47001313, 0.51944645, 0.78775041,\n",
              "        0.70788206, 0.16237292, 0.64604343, 0.21281206, 0.11856392],\n",
              "       [0.1263918 , 0.16008227, 0.1433716 , 0.15845061, 0.24029336,\n",
              "        0.21593053, 0.04952982, 0.19706743, 0.06491564, 0.03616643]])"
            ]
          },
          "metadata": {},
          "execution_count": 117
        }
      ],
      "source": [
        "A = np.random.uniform(0,1,10)\n",
        "B = np.random.uniform(0,1,10)\n",
        "\n",
        "np.einsum('i->', A)       # np.sum(A)\n",
        "np.einsum('i,i->i', A, B) # A * B\n",
        "np.einsum('i,i', A, B)    # np.inner(A, B)\n",
        "np.einsum('i,j->ij', A, B)    # np.outer(A, B)"
      ]
    },
    {
      "cell_type": "markdown",
      "metadata": {
        "id": "K3QvjUtmVUf9"
      },
      "source": [
        "#### 98. Considering a path described by two vectors (X,Y), how to sample it using equidistant samples (★★★)? \n",
        "(**hint**: np.cumsum, np.interp)"
      ]
    },
    {
      "cell_type": "code",
      "execution_count": 118,
      "metadata": {
        "collapsed": true,
        "id": "FxiOCwFgVUf9"
      },
      "outputs": [],
      "source": [
        "phi = np.arange(0, 10*np.pi, 0.1)\n",
        "a = 1\n",
        "x = a*phi*np.cos(phi)\n",
        "y = a*phi*np.sin(phi)\n",
        "\n",
        "dr = (np.diff(x)**2 + np.diff(y)**2)**.5\n",
        "r = np.zeros_like(x)\n",
        "r[1:] = np.cumsum(dr)\n",
        "r_int = np.linspace(0, r.max(), 200)\n",
        "x_int = np.interp(r_int, r, x)\n",
        "y_int = np.interp(r_int, r, y)"
      ]
    },
    {
      "cell_type": "markdown",
      "metadata": {
        "id": "xbl45eSsVUf9"
      },
      "source": [
        "#### 99. Given an integer n and a 2D array X, select from X the rows which can be interpreted as draws from a multinomial distribution with n degrees, i.e., the rows which only contain integers and which sum to n. (★★★) \n",
        "(**hint**: np.logical\\_and.reduce, np.mod)"
      ]
    },
    {
      "cell_type": "code",
      "execution_count": 119,
      "metadata": {
        "id": "lzFESX9QVUf9",
        "colab": {
          "base_uri": "https://localhost:8080/"
        },
        "outputId": "c4b542a1-80d7-44ac-828e-a1ab530db7b2"
      },
      "outputs": [
        {
          "output_type": "stream",
          "name": "stdout",
          "text": [
            "[[2. 0. 1. 1.]]\n"
          ]
        }
      ],
      "source": [
        "X = np.asarray([[1.0, 0.0, 3.0, 8.0],\n",
        "                [2.0, 0.0, 1.0, 1.0],\n",
        "                [1.5, 2.5, 1.0, 0.0]])\n",
        "n = 4\n",
        "M = np.logical_and.reduce(np.mod(X, 1) == 0, axis=-1)\n",
        "M &= (X.sum(axis=-1) == n)\n",
        "print(X[M])"
      ]
    },
    {
      "cell_type": "markdown",
      "metadata": {
        "id": "BGoOoyAXVUf9"
      },
      "source": [
        "#### 100. Compute bootstrapped 95% confidence intervals for the mean of a 1D array X (i.e., resample the elements of an array with replacement N times, compute the mean of each sample, and then compute percentiles over the means). (★★★) \n",
        "(**hint**: np.percentile)"
      ]
    },
    {
      "cell_type": "code",
      "execution_count": 120,
      "metadata": {
        "id": "rADzae1BVUf-",
        "colab": {
          "base_uri": "https://localhost:8080/"
        },
        "outputId": "ab7e7ac0-28e9-4807-eab7-c5b64ab3a995"
      },
      "outputs": [
        {
          "output_type": "stream",
          "name": "stdout",
          "text": [
            "[-0.35270899 -0.03257694]\n"
          ]
        }
      ],
      "source": [
        "X = np.random.randn(100) # random 1D array\n",
        "N = 1000 # number of bootstrap samples\n",
        "idx = np.random.randint(0, X.size, (N, X.size))\n",
        "means = X[idx].mean(axis=1)\n",
        "confint = np.percentile(means, [2.5, 97.5])\n",
        "print(confint)"
      ]
    }
  ],
  "metadata": {
    "kernelspec": {
      "display_name": "Python 3",
      "language": "python",
      "name": "python3"
    },
    "language_info": {
      "codemirror_mode": {
        "name": "ipython",
        "version": 3
      },
      "file_extension": ".py",
      "mimetype": "text/x-python",
      "name": "python",
      "nbconvert_exporter": "python",
      "pygments_lexer": "ipython3",
      "version": "3.8.3"
    },
    "colab": {
      "provenance": [],
      "collapsed_sections": [
        "tpWktGssVUe0",
        "mv-eCq5iVUe2",
        "f9Kj_2IiVUe3",
        "eV091vVAVUe5",
        "OobTnZH3VUe6",
        "95bT0Uz7VUe7",
        "OD6YYG_3VUe8",
        "LnoJbaN-VUe9",
        "xsc2PawBVUe9",
        "daBivJm4VUe-",
        "J4W1ssAOVUfB",
        "zIWgg3qbVUfC",
        "UMau8pVuVUfF",
        "bwtU9n56VUfI"
      ],
      "include_colab_link": true
    }
  },
  "nbformat": 4,
  "nbformat_minor": 0
}